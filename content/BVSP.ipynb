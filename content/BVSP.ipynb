{
 "cells": [
  {
   "cell_type": "code",
   "execution_count": 1,
   "metadata": {
    "collapsed": false
   },
   "outputs": [
    {
     "name": "stdout",
     "output_type": "stream",
     "text": [
      "Populating the interactive namespace from numpy and matplotlib\n"
     ]
    }
   ],
   "source": [
    "import numpy as np\n",
    "import matplotlib.pyplot as plt\n",
    "import pandas as pd\n",
    "import seaborn as sb\n",
    "import Quandl\n",
    "%pylab inline\n",
    "sb.set_context(\"talk\")"
   ]
  },
  {
   "cell_type": "markdown",
   "metadata": {},
   "source": []
  },
  {
   "cell_type": "code",
   "execution_count": 7,
   "metadata": {
    "collapsed": false
   },
   "outputs": [],
   "source": [
    "data = Quandl.get([\"BCB/433\", \"BCB/7845\"], trim_start=\"1994-12-01\")"
   ]
  },
  {
   "cell_type": "code",
   "execution_count": 8,
   "metadata": {
    "collapsed": false
   },
   "outputs": [],
   "source": [
    "data.columns = [\"IPCA\", \"IBOVESPA\"]"
   ]
  },
  {
   "cell_type": "code",
   "execution_count": 9,
   "metadata": {
    "collapsed": false
   },
   "outputs": [
    {
     "data": {
      "text/html": [
       "<div>\n",
       "<table border=\"1\" class=\"dataframe\">\n",
       "  <thead>\n",
       "    <tr style=\"text-align: right;\">\n",
       "      <th></th>\n",
       "      <th>IPCA</th>\n",
       "      <th>IBOVESPA</th>\n",
       "    </tr>\n",
       "    <tr>\n",
       "      <th>Date</th>\n",
       "      <th></th>\n",
       "      <th></th>\n",
       "    </tr>\n",
       "  </thead>\n",
       "  <tbody>\n",
       "    <tr>\n",
       "      <th>1994-12-31</th>\n",
       "      <td>1.71</td>\n",
       "      <td>43539</td>\n",
       "    </tr>\n",
       "    <tr>\n",
       "      <th>1995-01-31</th>\n",
       "      <td>1.70</td>\n",
       "      <td>38850</td>\n",
       "    </tr>\n",
       "    <tr>\n",
       "      <th>1995-02-28</th>\n",
       "      <td>1.02</td>\n",
       "      <td>32708</td>\n",
       "    </tr>\n",
       "    <tr>\n",
       "      <th>1995-03-31</th>\n",
       "      <td>1.55</td>\n",
       "      <td>29789</td>\n",
       "    </tr>\n",
       "    <tr>\n",
       "      <th>1995-04-30</th>\n",
       "      <td>2.43</td>\n",
       "      <td>38137</td>\n",
       "    </tr>\n",
       "  </tbody>\n",
       "</table>\n",
       "</div>"
      ],
      "text/plain": [
       "            IPCA  IBOVESPA\n",
       "Date                      \n",
       "1994-12-31  1.71     43539\n",
       "1995-01-31  1.70     38850\n",
       "1995-02-28  1.02     32708\n",
       "1995-03-31  1.55     29789\n",
       "1995-04-30  2.43     38137"
      ]
     },
     "execution_count": 9,
     "metadata": {},
     "output_type": "execute_result"
    }
   ],
   "source": [
    "data.head()"
   ]
  },
  {
   "cell_type": "code",
   "execution_count": 10,
   "metadata": {
    "collapsed": false
   },
   "outputs": [
    {
     "data": {
      "text/plain": [
       "Date\n",
       "1994-12-31   -4689\n",
       "1995-01-31   -6142\n",
       "1995-02-28   -2919\n",
       "1995-03-31    8348\n",
       "1995-04-30    -932\n",
       "Name: IBOVESPA, dtype: float64"
      ]
     },
     "execution_count": 10,
     "metadata": {},
     "output_type": "execute_result"
    }
   ],
   "source": [
    "data[\"IBOVESPA\"].diff().shift(-1).head()"
   ]
  },
  {
   "cell_type": "code",
   "execution_count": 11,
   "metadata": {
    "collapsed": false
   },
   "outputs": [
    {
     "data": {
      "text/plain": [
       "Date\n",
       "1994-12-31    43539\n",
       "1995-01-31    38850\n",
       "1995-02-28    32708\n",
       "1995-03-31    29789\n",
       "1995-04-30    38137\n",
       "Name: IBOVESPA, dtype: float64"
      ]
     },
     "execution_count": 11,
     "metadata": {},
     "output_type": "execute_result"
    }
   ],
   "source": [
    "data[\"IBOVESPA\"].head()"
   ]
  },
  {
   "cell_type": "code",
   "execution_count": 12,
   "metadata": {
    "collapsed": true
   },
   "outputs": [],
   "source": [
    "data[\"IBOVESPA_D\"] = (data[\"IBOVESPA\"].diff().shift(-1)/data[\"IBOVESPA\"]).shift()"
   ]
  },
  {
   "cell_type": "code",
   "execution_count": 13,
   "metadata": {
    "collapsed": false
   },
   "outputs": [
    {
     "data": {
      "text/html": [
       "<div>\n",
       "<table border=\"1\" class=\"dataframe\">\n",
       "  <thead>\n",
       "    <tr style=\"text-align: right;\">\n",
       "      <th></th>\n",
       "      <th>IPCA</th>\n",
       "      <th>IBOVESPA</th>\n",
       "      <th>IBOVESPA_D</th>\n",
       "    </tr>\n",
       "    <tr>\n",
       "      <th>Date</th>\n",
       "      <th></th>\n",
       "      <th></th>\n",
       "      <th></th>\n",
       "    </tr>\n",
       "  </thead>\n",
       "  <tbody>\n",
       "    <tr>\n",
       "      <th>1994-12-31</th>\n",
       "      <td>1.71</td>\n",
       "      <td>43539</td>\n",
       "      <td>NaN</td>\n",
       "    </tr>\n",
       "    <tr>\n",
       "      <th>1995-01-31</th>\n",
       "      <td>1.70</td>\n",
       "      <td>38850</td>\n",
       "      <td>-0.107697</td>\n",
       "    </tr>\n",
       "    <tr>\n",
       "      <th>1995-02-28</th>\n",
       "      <td>1.02</td>\n",
       "      <td>32708</td>\n",
       "      <td>-0.158095</td>\n",
       "    </tr>\n",
       "    <tr>\n",
       "      <th>1995-03-31</th>\n",
       "      <td>1.55</td>\n",
       "      <td>29789</td>\n",
       "      <td>-0.089244</td>\n",
       "    </tr>\n",
       "    <tr>\n",
       "      <th>1995-04-30</th>\n",
       "      <td>2.43</td>\n",
       "      <td>38137</td>\n",
       "      <td>0.280238</td>\n",
       "    </tr>\n",
       "  </tbody>\n",
       "</table>\n",
       "</div>"
      ],
      "text/plain": [
       "            IPCA  IBOVESPA  IBOVESPA_D\n",
       "Date                                  \n",
       "1994-12-31  1.71     43539         NaN\n",
       "1995-01-31  1.70     38850   -0.107697\n",
       "1995-02-28  1.02     32708   -0.158095\n",
       "1995-03-31  1.55     29789   -0.089244\n",
       "1995-04-30  2.43     38137    0.280238"
      ]
     },
     "execution_count": 13,
     "metadata": {},
     "output_type": "execute_result"
    }
   ],
   "source": [
    "data.head()"
   ]
  },
  {
   "cell_type": "code",
   "execution_count": 14,
   "metadata": {
    "collapsed": false
   },
   "outputs": [
    {
     "data": {
      "text/plain": [
       "Date\n",
       "1994-12-31      NaN\n",
       "1995-01-31    38850\n",
       "1995-02-28    32708\n",
       "1995-03-31    29789\n",
       "1995-04-30    38137\n",
       "Name: IBOVESPA_D, dtype: float64"
      ]
     },
     "execution_count": 14,
     "metadata": {},
     "output_type": "execute_result"
    }
   ],
   "source": [
    "# (data[\"IBOVESPA\"][0]*(1 + data[\"IBOVESPA_D\"]).shift(-1)).shift().head()\n",
    "data[\"IBOVESPA\"][0]*(np.cumprod((1 + data[\"IBOVESPA_D\"]).shift(-1)).shift()).head()"
   ]
  },
  {
   "cell_type": "code",
   "execution_count": 15,
   "metadata": {
    "collapsed": false
   },
   "outputs": [
    {
     "data": {
      "text/html": [
       "<div>\n",
       "<table border=\"1\" class=\"dataframe\">\n",
       "  <thead>\n",
       "    <tr style=\"text-align: right;\">\n",
       "      <th></th>\n",
       "      <th>IPCA</th>\n",
       "      <th>IBOVESPA</th>\n",
       "      <th>IBOVESPA_D</th>\n",
       "      <th>IBOVESPA_D_DEFL</th>\n",
       "    </tr>\n",
       "    <tr>\n",
       "      <th>Date</th>\n",
       "      <th></th>\n",
       "      <th></th>\n",
       "      <th></th>\n",
       "      <th></th>\n",
       "    </tr>\n",
       "  </thead>\n",
       "  <tbody>\n",
       "    <tr>\n",
       "      <th>2015-05-31</th>\n",
       "      <td>0.74</td>\n",
       "      <td>52760</td>\n",
       "      <td>-0.061694</td>\n",
       "      <td>-0.068587</td>\n",
       "    </tr>\n",
       "    <tr>\n",
       "      <th>2015-06-30</th>\n",
       "      <td>0.79</td>\n",
       "      <td>53080</td>\n",
       "      <td>0.006065</td>\n",
       "      <td>-0.001820</td>\n",
       "    </tr>\n",
       "    <tr>\n",
       "      <th>2015-07-31</th>\n",
       "      <td>0.62</td>\n",
       "      <td>50864</td>\n",
       "      <td>-0.041748</td>\n",
       "      <td>-0.047653</td>\n",
       "    </tr>\n",
       "    <tr>\n",
       "      <th>2015-08-31</th>\n",
       "      <td>0.22</td>\n",
       "      <td>46625</td>\n",
       "      <td>-0.083340</td>\n",
       "      <td>-0.085352</td>\n",
       "    </tr>\n",
       "    <tr>\n",
       "      <th>2015-09-30</th>\n",
       "      <td>0.54</td>\n",
       "      <td>NaN</td>\n",
       "      <td>NaN</td>\n",
       "      <td>NaN</td>\n",
       "    </tr>\n",
       "  </tbody>\n",
       "</table>\n",
       "</div>"
      ],
      "text/plain": [
       "            IPCA  IBOVESPA  IBOVESPA_D  IBOVESPA_D_DEFL\n",
       "Date                                                   \n",
       "2015-05-31  0.74     52760   -0.061694        -0.068587\n",
       "2015-06-30  0.79     53080    0.006065        -0.001820\n",
       "2015-07-31  0.62     50864   -0.041748        -0.047653\n",
       "2015-08-31  0.22     46625   -0.083340        -0.085352\n",
       "2015-09-30  0.54       NaN         NaN              NaN"
      ]
     },
     "execution_count": 15,
     "metadata": {},
     "output_type": "execute_result"
    }
   ],
   "source": [
    "data[\"IBOVESPA_D_DEFL\"] = (1 + data[\"IBOVESPA_D\"])/(1 + data[\"IPCA\"]/100) - 1\n",
    "data.tail()"
   ]
  },
  {
   "cell_type": "code",
   "execution_count": 16,
   "metadata": {
    "collapsed": false
   },
   "outputs": [
    {
     "data": {
      "text/html": [
       "<div>\n",
       "<table border=\"1\" class=\"dataframe\">\n",
       "  <thead>\n",
       "    <tr style=\"text-align: right;\">\n",
       "      <th></th>\n",
       "      <th>IPCA</th>\n",
       "      <th>IBOVESPA</th>\n",
       "      <th>IBOVESPA_D</th>\n",
       "      <th>IBOVESPA_D_DEFL</th>\n",
       "    </tr>\n",
       "    <tr>\n",
       "      <th>Date</th>\n",
       "      <th></th>\n",
       "      <th></th>\n",
       "      <th></th>\n",
       "      <th></th>\n",
       "    </tr>\n",
       "  </thead>\n",
       "  <tbody>\n",
       "    <tr>\n",
       "      <th>1994-12-31</th>\n",
       "      <td>1.71</td>\n",
       "      <td>43539</td>\n",
       "      <td>NaN</td>\n",
       "      <td>NaN</td>\n",
       "    </tr>\n",
       "    <tr>\n",
       "      <th>1995-01-31</th>\n",
       "      <td>1.70</td>\n",
       "      <td>38850</td>\n",
       "      <td>-0.107697</td>\n",
       "      <td>-0.122612</td>\n",
       "    </tr>\n",
       "    <tr>\n",
       "      <th>1995-02-28</th>\n",
       "      <td>1.02</td>\n",
       "      <td>32708</td>\n",
       "      <td>-0.158095</td>\n",
       "      <td>-0.166596</td>\n",
       "    </tr>\n",
       "    <tr>\n",
       "      <th>1995-03-31</th>\n",
       "      <td>1.55</td>\n",
       "      <td>29789</td>\n",
       "      <td>-0.089244</td>\n",
       "      <td>-0.103145</td>\n",
       "    </tr>\n",
       "    <tr>\n",
       "      <th>1995-04-30</th>\n",
       "      <td>2.43</td>\n",
       "      <td>38137</td>\n",
       "      <td>0.280238</td>\n",
       "      <td>0.249866</td>\n",
       "    </tr>\n",
       "  </tbody>\n",
       "</table>\n",
       "</div>"
      ],
      "text/plain": [
       "            IPCA  IBOVESPA  IBOVESPA_D  IBOVESPA_D_DEFL\n",
       "Date                                                   \n",
       "1994-12-31  1.71     43539         NaN              NaN\n",
       "1995-01-31  1.70     38850   -0.107697        -0.122612\n",
       "1995-02-28  1.02     32708   -0.158095        -0.166596\n",
       "1995-03-31  1.55     29789   -0.089244        -0.103145\n",
       "1995-04-30  2.43     38137    0.280238         0.249866"
      ]
     },
     "execution_count": 16,
     "metadata": {},
     "output_type": "execute_result"
    }
   ],
   "source": [
    "data.head()"
   ]
  },
  {
   "cell_type": "code",
   "execution_count": 17,
   "metadata": {
    "collapsed": false
   },
   "outputs": [],
   "source": [
    "data[\"IBOVESPA_DEFL\"] = data[\"IBOVESPA\"][0]*(np.cumprod((1 + data[\"IBOVESPA_D_DEFL\"]).shift(-1)).shift())"
   ]
  },
  {
   "cell_type": "code",
   "execution_count": 18,
   "metadata": {
    "collapsed": false
   },
   "outputs": [],
   "source": [
    "data[\"IBOVESPA_DEFL\"][0] = data[\"IBOVESPA\"][0]"
   ]
  },
  {
   "cell_type": "code",
   "execution_count": 19,
   "metadata": {
    "collapsed": false
   },
   "outputs": [
    {
     "data": {
      "text/html": [
       "<div>\n",
       "<table border=\"1\" class=\"dataframe\">\n",
       "  <thead>\n",
       "    <tr style=\"text-align: right;\">\n",
       "      <th></th>\n",
       "      <th>IPCA</th>\n",
       "      <th>IBOVESPA</th>\n",
       "      <th>IBOVESPA_D</th>\n",
       "      <th>IBOVESPA_D_DEFL</th>\n",
       "      <th>IBOVESPA_DEFL</th>\n",
       "    </tr>\n",
       "    <tr>\n",
       "      <th>Date</th>\n",
       "      <th></th>\n",
       "      <th></th>\n",
       "      <th></th>\n",
       "      <th></th>\n",
       "      <th></th>\n",
       "    </tr>\n",
       "  </thead>\n",
       "  <tbody>\n",
       "    <tr>\n",
       "      <th>1994-12-31</th>\n",
       "      <td>1.71</td>\n",
       "      <td>43539</td>\n",
       "      <td>NaN</td>\n",
       "      <td>NaN</td>\n",
       "      <td>43539.000000</td>\n",
       "    </tr>\n",
       "    <tr>\n",
       "      <th>1995-01-31</th>\n",
       "      <td>1.70</td>\n",
       "      <td>38850</td>\n",
       "      <td>-0.107697</td>\n",
       "      <td>-0.122612</td>\n",
       "      <td>38200.589971</td>\n",
       "    </tr>\n",
       "    <tr>\n",
       "      <th>1995-02-28</th>\n",
       "      <td>1.02</td>\n",
       "      <td>32708</td>\n",
       "      <td>-0.158095</td>\n",
       "      <td>-0.166596</td>\n",
       "      <td>31836.526038</td>\n",
       "    </tr>\n",
       "    <tr>\n",
       "      <th>1995-03-31</th>\n",
       "      <td>1.55</td>\n",
       "      <td>29789</td>\n",
       "      <td>-0.089244</td>\n",
       "      <td>-0.103145</td>\n",
       "      <td>28552.732697</td>\n",
       "    </tr>\n",
       "    <tr>\n",
       "      <th>1995-04-30</th>\n",
       "      <td>2.43</td>\n",
       "      <td>38137</td>\n",
       "      <td>0.280238</td>\n",
       "      <td>0.249866</td>\n",
       "      <td>35687.087793</td>\n",
       "    </tr>\n",
       "  </tbody>\n",
       "</table>\n",
       "</div>"
      ],
      "text/plain": [
       "            IPCA  IBOVESPA  IBOVESPA_D  IBOVESPA_D_DEFL  IBOVESPA_DEFL\n",
       "Date                                                                  \n",
       "1994-12-31  1.71     43539         NaN              NaN   43539.000000\n",
       "1995-01-31  1.70     38850   -0.107697        -0.122612   38200.589971\n",
       "1995-02-28  1.02     32708   -0.158095        -0.166596   31836.526038\n",
       "1995-03-31  1.55     29789   -0.089244        -0.103145   28552.732697\n",
       "1995-04-30  2.43     38137    0.280238         0.249866   35687.087793"
      ]
     },
     "execution_count": 19,
     "metadata": {},
     "output_type": "execute_result"
    }
   ],
   "source": [
    "data.head()"
   ]
  },
  {
   "cell_type": "code",
   "execution_count": 20,
   "metadata": {
    "collapsed": false
   },
   "outputs": [
    {
     "data": {
      "image/png": "[encoded data removed]",
      "text/plain": [
       "<matplotlib.figure.Figure at 0x112afe5c0>"
      ]
     },
     "metadata": {},
     "output_type": "display_data"
    }
   ],
   "source": [
    "data[[\"IBOVESPA\", \"IBOVESPA_DEFL\"]].plot();"
   ]
  },
  {
   "cell_type": "code",
   "execution_count": 24,
   "metadata": {
    "collapsed": false
   },
   "outputs": [],
   "source": [
    "data['ANO'] = data.index.year"
   ]
  },
  {
   "cell_type": "code",
   "execution_count": 25,
   "metadata": {
    "collapsed": false
   },
   "outputs": [
    {
     "data": {
      "text/html": [
       "<div>\n",
       "<table border=\"1\" class=\"dataframe\">\n",
       "  <thead>\n",
       "    <tr style=\"text-align: right;\">\n",
       "      <th></th>\n",
       "      <th>IPCA</th>\n",
       "      <th>IBOVESPA</th>\n",
       "      <th>IBOVESPA_D</th>\n",
       "      <th>IBOVESPA_D_DEFL</th>\n",
       "      <th>IBOVESPA_DEFL</th>\n",
       "      <th>ANO</th>\n",
       "    </tr>\n",
       "    <tr>\n",
       "      <th>Date</th>\n",
       "      <th></th>\n",
       "      <th></th>\n",
       "      <th></th>\n",
       "      <th></th>\n",
       "      <th></th>\n",
       "      <th></th>\n",
       "    </tr>\n",
       "  </thead>\n",
       "  <tbody>\n",
       "    <tr>\n",
       "      <th>1994-12-31</th>\n",
       "      <td>1.71</td>\n",
       "      <td>43539</td>\n",
       "      <td>NaN</td>\n",
       "      <td>NaN</td>\n",
       "      <td>43539.000000</td>\n",
       "      <td>1994</td>\n",
       "    </tr>\n",
       "    <tr>\n",
       "      <th>1995-01-31</th>\n",
       "      <td>1.70</td>\n",
       "      <td>38850</td>\n",
       "      <td>-0.107697</td>\n",
       "      <td>-0.122612</td>\n",
       "      <td>38200.589971</td>\n",
       "      <td>1995</td>\n",
       "    </tr>\n",
       "    <tr>\n",
       "      <th>1995-02-28</th>\n",
       "      <td>1.02</td>\n",
       "      <td>32708</td>\n",
       "      <td>-0.158095</td>\n",
       "      <td>-0.166596</td>\n",
       "      <td>31836.526038</td>\n",
       "      <td>1995</td>\n",
       "    </tr>\n",
       "    <tr>\n",
       "      <th>1995-03-31</th>\n",
       "      <td>1.55</td>\n",
       "      <td>29789</td>\n",
       "      <td>-0.089244</td>\n",
       "      <td>-0.103145</td>\n",
       "      <td>28552.732697</td>\n",
       "      <td>1995</td>\n",
       "    </tr>\n",
       "    <tr>\n",
       "      <th>1995-04-30</th>\n",
       "      <td>2.43</td>\n",
       "      <td>38137</td>\n",
       "      <td>0.280238</td>\n",
       "      <td>0.249866</td>\n",
       "      <td>35687.087793</td>\n",
       "      <td>1995</td>\n",
       "    </tr>\n",
       "  </tbody>\n",
       "</table>\n",
       "</div>"
      ],
      "text/plain": [
       "            IPCA  IBOVESPA  IBOVESPA_D  IBOVESPA_D_DEFL  IBOVESPA_DEFL   ANO\n",
       "Date                                                                        \n",
       "1994-12-31  1.71     43539         NaN              NaN   43539.000000  1994\n",
       "1995-01-31  1.70     38850   -0.107697        -0.122612   38200.589971  1995\n",
       "1995-02-28  1.02     32708   -0.158095        -0.166596   31836.526038  1995\n",
       "1995-03-31  1.55     29789   -0.089244        -0.103145   28552.732697  1995\n",
       "1995-04-30  2.43     38137    0.280238         0.249866   35687.087793  1995"
      ]
     },
     "execution_count": 25,
     "metadata": {},
     "output_type": "execute_result"
    }
   ],
   "source": [
    "data.head()"
   ]
  },
  {
   "cell_type": "code",
   "execution_count": 32,
   "metadata": {
    "collapsed": false
   },
   "outputs": [],
   "source": [
    "def governo(ano):\n",
    "    if ano in range(1995, 1999):\n",
    "        return 'FCH 1'\n",
    "    elif ano in range(1999, 2003):\n",
    "        return 'FHC 2'\n",
    "    elif ano in range(2003, 2007):\n",
    "        return 'LULA 1'\n",
    "    elif ano in range(2007, 2011):\n",
    "        return 'LULA 2'\n",
    "    elif ano in range(2011, 2015):\n",
    "        return 'DILMA 1'\n",
    "    elif ano in range(2015, 2019):\n",
    "        return 'DILMA 2'\n",
    "\n",
    "data['GOVERNO'] = data['ANO'].map(governo)"
   ]
  },
  {
   "cell_type": "code",
   "execution_count": 38,
   "metadata": {
    "collapsed": false
   },
   "outputs": [
    {
     "data": {
      "text/html": [
       "<div>\n",
       "<table border=\"1\" class=\"dataframe\">\n",
       "  <thead>\n",
       "    <tr style=\"text-align: right;\">\n",
       "      <th></th>\n",
       "      <th>IBOVESPA_D</th>\n",
       "      <th>IBOVESPA_D_DEFL</th>\n",
       "    </tr>\n",
       "    <tr>\n",
       "      <th>GOVERNO</th>\n",
       "      <th></th>\n",
       "      <th></th>\n",
       "    </tr>\n",
       "  </thead>\n",
       "  <tbody>\n",
       "    <tr>\n",
       "      <th>DILMA 1</th>\n",
       "      <td>-0.278440</td>\n",
       "      <td>-0.431994</td>\n",
       "    </tr>\n",
       "    <tr>\n",
       "      <th>DILMA 2</th>\n",
       "      <td>-0.067631</td>\n",
       "      <td>-0.129149</td>\n",
       "    </tr>\n",
       "    <tr>\n",
       "      <th>FCH 1</th>\n",
       "      <td>-0.844186</td>\n",
       "      <td>-0.891388</td>\n",
       "    </tr>\n",
       "    <tr>\n",
       "      <th>FHC 2</th>\n",
       "      <td>0.660967</td>\n",
       "      <td>0.187396</td>\n",
       "    </tr>\n",
       "    <tr>\n",
       "      <th>LULA 1</th>\n",
       "      <td>2.946841</td>\n",
       "      <td>2.078558</td>\n",
       "    </tr>\n",
       "    <tr>\n",
       "      <th>LULA 2</th>\n",
       "      <td>0.558339</td>\n",
       "      <td>0.275117</td>\n",
       "    </tr>\n",
       "  </tbody>\n",
       "</table>\n",
       "</div>"
      ],
      "text/plain": [
       "         IBOVESPA_D  IBOVESPA_D_DEFL\n",
       "GOVERNO                             \n",
       "DILMA 1   -0.278440        -0.431994\n",
       "DILMA 2   -0.067631        -0.129149\n",
       "FCH 1     -0.844186        -0.891388\n",
       "FHC 2      0.660967         0.187396\n",
       "LULA 1     2.946841         2.078558\n",
       "LULA 2     0.558339         0.275117"
      ]
     },
     "execution_count": 38,
     "metadata": {},
     "output_type": "execute_result"
    }
   ],
   "source": [
    "data_gov = data.groupby('GOVERNO')\n",
    "data_gov[['IBOVESPA_D', 'IBOVESPA_D_DEFL']].aggregate(lambda x: np.prod(1 + x) - 1)"
   ]
  },
  {
   "cell_type": "code",
   "execution_count": null,
   "metadata": {
    "collapsed": true
   },
   "outputs": [],
   "source": []
  }
 ],
 "metadata": {
  "kernelspec": {
   "display_name": "Python 3",
   "language": "python",
   "name": "python3"
  },
  "language_info": {
   "codemirror_mode": {
    "name": "ipython",
    "version": 3
   },
   "file_extension": ".py",
   "mimetype": "text/x-python",
   "name": "python",
   "nbconvert_exporter": "python",
   "pygments_lexer": "ipython3",
   "version": "3.4.3"
  }
 },
 "nbformat": 4,
 "nbformat_minor": 0
}
