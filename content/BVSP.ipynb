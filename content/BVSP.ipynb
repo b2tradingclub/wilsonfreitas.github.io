{
 "cells": [
  {
   "cell_type": "code",
   "execution_count": 1,
   "metadata": {
    "collapsed": false
   },
   "outputs": [
    {
     "name": "stdout",
     "output_type": "stream",
     "text": [
      "Populating the interactive namespace from numpy and matplotlib\n"
     ]
    }
   ],
   "source": [
    "import numpy as np\n",
    "import matplotlib.pyplot as plt\n",
    "import pandas as pd\n",
    "import seaborn as sb\n",
    "import Quandl\n",
    "%pylab inline\n",
    "sb.set_context(\"talk\")"
   ]
  },
  {
   "cell_type": "markdown",
   "metadata": {},
   "source": []
  },
  {
   "cell_type": "code",
   "execution_count": 79,
   "metadata": {
    "collapsed": false
   },
   "outputs": [],
   "source": [
    "data = Quandl.get([\"BCB/433\", \"BCB/7845\"], trim_start=\"1999-01-01\")"
   ]
  },
  {
   "cell_type": "code",
   "execution_count": 80,
   "metadata": {
    "collapsed": false
   },
   "outputs": [],
   "source": [
    "data.columns = [\"IPCA\", \"IBOVESPA\"]"
   ]
  },
  {
   "cell_type": "code",
   "execution_count": 81,
   "metadata": {
    "collapsed": false
   },
   "outputs": [
    {
     "data": {
      "text/html": [
       "<div>\n",
       "<table border=\"1\" class=\"dataframe\">\n",
       "  <thead>\n",
       "    <tr style=\"text-align: right;\">\n",
       "      <th></th>\n",
       "      <th>IPCA</th>\n",
       "      <th>IBOVESPA</th>\n",
       "    </tr>\n",
       "    <tr>\n",
       "      <th>Date</th>\n",
       "      <th></th>\n",
       "      <th></th>\n",
       "    </tr>\n",
       "  </thead>\n",
       "  <tbody>\n",
       "    <tr>\n",
       "      <th>1999-01-31</th>\n",
       "      <td>0.70</td>\n",
       "      <td>8171</td>\n",
       "    </tr>\n",
       "    <tr>\n",
       "      <th>1999-02-28</th>\n",
       "      <td>1.05</td>\n",
       "      <td>8910</td>\n",
       "    </tr>\n",
       "    <tr>\n",
       "      <th>1999-03-31</th>\n",
       "      <td>1.10</td>\n",
       "      <td>10696</td>\n",
       "    </tr>\n",
       "    <tr>\n",
       "      <th>1999-04-30</th>\n",
       "      <td>0.56</td>\n",
       "      <td>11350</td>\n",
       "    </tr>\n",
       "    <tr>\n",
       "      <th>1999-05-31</th>\n",
       "      <td>0.30</td>\n",
       "      <td>11089</td>\n",
       "    </tr>\n",
       "  </tbody>\n",
       "</table>\n",
       "</div>"
      ],
      "text/plain": [
       "            IPCA  IBOVESPA\n",
       "Date                      \n",
       "1999-01-31  0.70      8171\n",
       "1999-02-28  1.05      8910\n",
       "1999-03-31  1.10     10696\n",
       "1999-04-30  0.56     11350\n",
       "1999-05-31  0.30     11089"
      ]
     },
     "execution_count": 81,
     "metadata": {},
     "output_type": "execute_result"
    }
   ],
   "source": [
    "data.head()"
   ]
  },
  {
   "cell_type": "code",
   "execution_count": 82,
   "metadata": {
    "collapsed": false
   },
   "outputs": [
    {
     "data": {
      "text/plain": [
       "Date\n",
       "1999-01-31     739\n",
       "1999-02-28    1786\n",
       "1999-03-31     654\n",
       "1999-04-30    -261\n",
       "1999-05-31     537\n",
       "Name: IBOVESPA, dtype: float64"
      ]
     },
     "execution_count": 82,
     "metadata": {},
     "output_type": "execute_result"
    }
   ],
   "source": [
    "data[\"IBOVESPA\"].diff().shift(-1).head()"
   ]
  },
  {
   "cell_type": "code",
   "execution_count": 83,
   "metadata": {
    "collapsed": false
   },
   "outputs": [
    {
     "data": {
      "text/plain": [
       "Date\n",
       "1999-01-31     8171\n",
       "1999-02-28     8910\n",
       "1999-03-31    10696\n",
       "1999-04-30    11350\n",
       "1999-05-31    11089\n",
       "Name: IBOVESPA, dtype: float64"
      ]
     },
     "execution_count": 83,
     "metadata": {},
     "output_type": "execute_result"
    }
   ],
   "source": [
    "data[\"IBOVESPA\"].head()"
   ]
  },
  {
   "cell_type": "code",
   "execution_count": 84,
   "metadata": {
    "collapsed": true
   },
   "outputs": [],
   "source": [
    "data[\"IBOVESPA_D\"] = (data[\"IBOVESPA\"].diff().shift(-1)/data[\"IBOVESPA\"]).shift()"
   ]
  },
  {
   "cell_type": "code",
   "execution_count": 85,
   "metadata": {
    "collapsed": false
   },
   "outputs": [
    {
     "data": {
      "text/html": [
       "<div>\n",
       "<table border=\"1\" class=\"dataframe\">\n",
       "  <thead>\n",
       "    <tr style=\"text-align: right;\">\n",
       "      <th></th>\n",
       "      <th>IPCA</th>\n",
       "      <th>IBOVESPA</th>\n",
       "      <th>IBOVESPA_D</th>\n",
       "    </tr>\n",
       "    <tr>\n",
       "      <th>Date</th>\n",
       "      <th></th>\n",
       "      <th></th>\n",
       "      <th></th>\n",
       "    </tr>\n",
       "  </thead>\n",
       "  <tbody>\n",
       "    <tr>\n",
       "      <th>1999-01-31</th>\n",
       "      <td>0.70</td>\n",
       "      <td>8171</td>\n",
       "      <td>NaN</td>\n",
       "    </tr>\n",
       "    <tr>\n",
       "      <th>1999-02-28</th>\n",
       "      <td>1.05</td>\n",
       "      <td>8910</td>\n",
       "      <td>0.090442</td>\n",
       "    </tr>\n",
       "    <tr>\n",
       "      <th>1999-03-31</th>\n",
       "      <td>1.10</td>\n",
       "      <td>10696</td>\n",
       "      <td>0.200449</td>\n",
       "    </tr>\n",
       "    <tr>\n",
       "      <th>1999-04-30</th>\n",
       "      <td>0.56</td>\n",
       "      <td>11350</td>\n",
       "      <td>0.061144</td>\n",
       "    </tr>\n",
       "    <tr>\n",
       "      <th>1999-05-31</th>\n",
       "      <td>0.30</td>\n",
       "      <td>11089</td>\n",
       "      <td>-0.022996</td>\n",
       "    </tr>\n",
       "  </tbody>\n",
       "</table>\n",
       "</div>"
      ],
      "text/plain": [
       "            IPCA  IBOVESPA  IBOVESPA_D\n",
       "Date                                  \n",
       "1999-01-31  0.70      8171         NaN\n",
       "1999-02-28  1.05      8910    0.090442\n",
       "1999-03-31  1.10     10696    0.200449\n",
       "1999-04-30  0.56     11350    0.061144\n",
       "1999-05-31  0.30     11089   -0.022996"
      ]
     },
     "execution_count": 85,
     "metadata": {},
     "output_type": "execute_result"
    }
   ],
   "source": [
    "data.head()"
   ]
  },
  {
   "cell_type": "code",
   "execution_count": 86,
   "metadata": {
    "collapsed": false
   },
   "outputs": [
    {
     "data": {
      "text/plain": [
       "Date\n",
       "1999-01-31      NaN\n",
       "1999-02-28     8910\n",
       "1999-03-31    10696\n",
       "1999-04-30    11350\n",
       "1999-05-31    11089\n",
       "Name: IBOVESPA_D, dtype: float64"
      ]
     },
     "execution_count": 86,
     "metadata": {},
     "output_type": "execute_result"
    }
   ],
   "source": [
    "# (data[\"IBOVESPA\"][0]*(1 + data[\"IBOVESPA_D\"]).shift(-1)).shift().head()\n",
    "data[\"IBOVESPA\"][0]*(np.cumprod((1 + data[\"IBOVESPA_D\"]).shift(-1)).shift()).head()"
   ]
  },
  {
   "cell_type": "code",
   "execution_count": 87,
   "metadata": {
    "collapsed": false
   },
   "outputs": [
    {
     "data": {
      "text/html": [
       "<div>\n",
       "<table border=\"1\" class=\"dataframe\">\n",
       "  <thead>\n",
       "    <tr style=\"text-align: right;\">\n",
       "      <th></th>\n",
       "      <th>IPCA</th>\n",
       "      <th>IBOVESPA</th>\n",
       "      <th>IBOVESPA_D</th>\n",
       "      <th>IBOVESPA_D_DEFL</th>\n",
       "    </tr>\n",
       "    <tr>\n",
       "      <th>Date</th>\n",
       "      <th></th>\n",
       "      <th></th>\n",
       "      <th></th>\n",
       "      <th></th>\n",
       "    </tr>\n",
       "  </thead>\n",
       "  <tbody>\n",
       "    <tr>\n",
       "      <th>2015-04-30</th>\n",
       "      <td>0.71</td>\n",
       "      <td>56229</td>\n",
       "      <td>0.099296</td>\n",
       "      <td>0.091546</td>\n",
       "    </tr>\n",
       "    <tr>\n",
       "      <th>2015-05-31</th>\n",
       "      <td>0.74</td>\n",
       "      <td>52760</td>\n",
       "      <td>-0.061694</td>\n",
       "      <td>-0.068587</td>\n",
       "    </tr>\n",
       "    <tr>\n",
       "      <th>2015-06-30</th>\n",
       "      <td>0.79</td>\n",
       "      <td>53080</td>\n",
       "      <td>0.006065</td>\n",
       "      <td>-0.001820</td>\n",
       "    </tr>\n",
       "    <tr>\n",
       "      <th>2015-07-31</th>\n",
       "      <td>0.62</td>\n",
       "      <td>50864</td>\n",
       "      <td>-0.041748</td>\n",
       "      <td>-0.047653</td>\n",
       "    </tr>\n",
       "    <tr>\n",
       "      <th>2015-08-31</th>\n",
       "      <td>0.22</td>\n",
       "      <td>46625</td>\n",
       "      <td>-0.083340</td>\n",
       "      <td>-0.085352</td>\n",
       "    </tr>\n",
       "  </tbody>\n",
       "</table>\n",
       "</div>"
      ],
      "text/plain": [
       "            IPCA  IBOVESPA  IBOVESPA_D  IBOVESPA_D_DEFL\n",
       "Date                                                   \n",
       "2015-04-30  0.71     56229    0.099296         0.091546\n",
       "2015-05-31  0.74     52760   -0.061694        -0.068587\n",
       "2015-06-30  0.79     53080    0.006065        -0.001820\n",
       "2015-07-31  0.62     50864   -0.041748        -0.047653\n",
       "2015-08-31  0.22     46625   -0.083340        -0.085352"
      ]
     },
     "execution_count": 87,
     "metadata": {},
     "output_type": "execute_result"
    }
   ],
   "source": [
    "data[\"IBOVESPA_D_DEFL\"] = (1 + data[\"IBOVESPA_D\"])/(1 + data[\"IPCA\"]/100) - 1\n",
    "data.tail()"
   ]
  },
  {
   "cell_type": "code",
   "execution_count": 88,
   "metadata": {
    "collapsed": false
   },
   "outputs": [
    {
     "data": {
      "text/html": [
       "<div>\n",
       "<table border=\"1\" class=\"dataframe\">\n",
       "  <thead>\n",
       "    <tr style=\"text-align: right;\">\n",
       "      <th></th>\n",
       "      <th>IPCA</th>\n",
       "      <th>IBOVESPA</th>\n",
       "      <th>IBOVESPA_D</th>\n",
       "      <th>IBOVESPA_D_DEFL</th>\n",
       "    </tr>\n",
       "    <tr>\n",
       "      <th>Date</th>\n",
       "      <th></th>\n",
       "      <th></th>\n",
       "      <th></th>\n",
       "      <th></th>\n",
       "    </tr>\n",
       "  </thead>\n",
       "  <tbody>\n",
       "    <tr>\n",
       "      <th>1999-01-31</th>\n",
       "      <td>0.70</td>\n",
       "      <td>8171</td>\n",
       "      <td>NaN</td>\n",
       "      <td>NaN</td>\n",
       "    </tr>\n",
       "    <tr>\n",
       "      <th>1999-02-28</th>\n",
       "      <td>1.05</td>\n",
       "      <td>8910</td>\n",
       "      <td>0.090442</td>\n",
       "      <td>0.079111</td>\n",
       "    </tr>\n",
       "    <tr>\n",
       "      <th>1999-03-31</th>\n",
       "      <td>1.10</td>\n",
       "      <td>10696</td>\n",
       "      <td>0.200449</td>\n",
       "      <td>0.187388</td>\n",
       "    </tr>\n",
       "    <tr>\n",
       "      <th>1999-04-30</th>\n",
       "      <td>0.56</td>\n",
       "      <td>11350</td>\n",
       "      <td>0.061144</td>\n",
       "      <td>0.055235</td>\n",
       "    </tr>\n",
       "    <tr>\n",
       "      <th>1999-05-31</th>\n",
       "      <td>0.30</td>\n",
       "      <td>11089</td>\n",
       "      <td>-0.022996</td>\n",
       "      <td>-0.025918</td>\n",
       "    </tr>\n",
       "  </tbody>\n",
       "</table>\n",
       "</div>"
      ],
      "text/plain": [
       "            IPCA  IBOVESPA  IBOVESPA_D  IBOVESPA_D_DEFL\n",
       "Date                                                   \n",
       "1999-01-31  0.70      8171         NaN              NaN\n",
       "1999-02-28  1.05      8910    0.090442         0.079111\n",
       "1999-03-31  1.10     10696    0.200449         0.187388\n",
       "1999-04-30  0.56     11350    0.061144         0.055235\n",
       "1999-05-31  0.30     11089   -0.022996        -0.025918"
      ]
     },
     "execution_count": 88,
     "metadata": {},
     "output_type": "execute_result"
    }
   ],
   "source": [
    "data.head()"
   ]
  },
  {
   "cell_type": "code",
   "execution_count": 89,
   "metadata": {
    "collapsed": false
   },
   "outputs": [],
   "source": [
    "data[\"IBOVESPA_DEFL\"] = data[\"IBOVESPA\"][0]*(np.cumprod((1 + data[\"IBOVESPA_D_DEFL\"]).shift(-1)).shift())"
   ]
  },
  {
   "cell_type": "code",
   "execution_count": 90,
   "metadata": {
    "collapsed": false
   },
   "outputs": [],
   "source": [
    "data[\"IBOVESPA_DEFL\"][0] = data[\"IBOVESPA\"][0]"
   ]
  },
  {
   "cell_type": "code",
   "execution_count": 91,
   "metadata": {
    "collapsed": false
   },
   "outputs": [
    {
     "data": {
      "text/html": [
       "<div>\n",
       "<table border=\"1\" class=\"dataframe\">\n",
       "  <thead>\n",
       "    <tr style=\"text-align: right;\">\n",
       "      <th></th>\n",
       "      <th>IPCA</th>\n",
       "      <th>IBOVESPA</th>\n",
       "      <th>IBOVESPA_D</th>\n",
       "      <th>IBOVESPA_D_DEFL</th>\n",
       "      <th>IBOVESPA_DEFL</th>\n",
       "    </tr>\n",
       "    <tr>\n",
       "      <th>Date</th>\n",
       "      <th></th>\n",
       "      <th></th>\n",
       "      <th></th>\n",
       "      <th></th>\n",
       "      <th></th>\n",
       "    </tr>\n",
       "  </thead>\n",
       "  <tbody>\n",
       "    <tr>\n",
       "      <th>1999-01-31</th>\n",
       "      <td>0.70</td>\n",
       "      <td>8171</td>\n",
       "      <td>NaN</td>\n",
       "      <td>NaN</td>\n",
       "      <td>8171.000000</td>\n",
       "    </tr>\n",
       "    <tr>\n",
       "      <th>1999-02-28</th>\n",
       "      <td>1.05</td>\n",
       "      <td>8910</td>\n",
       "      <td>0.090442</td>\n",
       "      <td>0.079111</td>\n",
       "      <td>8817.417120</td>\n",
       "    </tr>\n",
       "    <tr>\n",
       "      <th>1999-03-31</th>\n",
       "      <td>1.10</td>\n",
       "      <td>10696</td>\n",
       "      <td>0.200449</td>\n",
       "      <td>0.187388</td>\n",
       "      <td>10469.692365</td>\n",
       "    </tr>\n",
       "    <tr>\n",
       "      <th>1999-04-30</th>\n",
       "      <td>0.56</td>\n",
       "      <td>11350</td>\n",
       "      <td>0.061144</td>\n",
       "      <td>0.055235</td>\n",
       "      <td>11047.986208</td>\n",
       "    </tr>\n",
       "    <tr>\n",
       "      <th>1999-05-31</th>\n",
       "      <td>0.30</td>\n",
       "      <td>11089</td>\n",
       "      <td>-0.022996</td>\n",
       "      <td>-0.025918</td>\n",
       "      <td>10761.646256</td>\n",
       "    </tr>\n",
       "  </tbody>\n",
       "</table>\n",
       "</div>"
      ],
      "text/plain": [
       "            IPCA  IBOVESPA  IBOVESPA_D  IBOVESPA_D_DEFL  IBOVESPA_DEFL\n",
       "Date                                                                  \n",
       "1999-01-31  0.70      8171         NaN              NaN    8171.000000\n",
       "1999-02-28  1.05      8910    0.090442         0.079111    8817.417120\n",
       "1999-03-31  1.10     10696    0.200449         0.187388   10469.692365\n",
       "1999-04-30  0.56     11350    0.061144         0.055235   11047.986208\n",
       "1999-05-31  0.30     11089   -0.022996        -0.025918   10761.646256"
      ]
     },
     "execution_count": 91,
     "metadata": {},
     "output_type": "execute_result"
    }
   ],
   "source": [
    "data.head()"
   ]
  },
  {
   "cell_type": "code",
   "execution_count": 92,
   "metadata": {
    "collapsed": false
   },
   "outputs": [
    {
     "data": {
      "image/png": "[encoded data removed]",
      "text/plain": [
       "<matplotlib.figure.Figure at 0x11304d550>"
      ]
     },
     "metadata": {},
     "output_type": "display_data"
    }
   ],
   "source": [
    "data[[\"IBOVESPA\", \"IBOVESPA_DEFL\"]].plot();"
   ]
  },
  {
   "cell_type": "code",
   "execution_count": 93,
   "metadata": {
    "collapsed": false
   },
   "outputs": [
    {
     "data": {
      "image/png": "[encoded data removed]",
      "text/plain": [
       "<matplotlib.figure.Figure at 0x11304d048>"
      ]
     },
     "metadata": {},
     "output_type": "display_data"
    }
   ],
   "source": [
    "(data[\"IBOVESPA\"]-data[\"IBOVESPA_DEFL\"]).plot();"
   ]
  },
  {
   "cell_type": "code",
   "execution_count": null,
   "metadata": {
    "collapsed": true
   },
   "outputs": [],
   "source": []
  }
 ],
 "metadata": {
  "kernelspec": {
   "display_name": "Python 3",
   "language": "python",
   "name": "python3"
  },
  "language_info": {
   "codemirror_mode": {
    "name": "ipython",
    "version": 3
   },
   "file_extension": ".py",
   "mimetype": "text/x-python",
   "name": "python",
   "nbconvert_exporter": "python",
   "pygments_lexer": "ipython3",
   "version": "3.4.3"
  }
 },
 "nbformat": 4,
 "nbformat_minor": 0
}
