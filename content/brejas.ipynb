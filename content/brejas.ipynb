{
 "cells": [
  {
   "cell_type": "code",
   "execution_count": 1,
   "metadata": {
    "collapsed": false
   },
   "outputs": [
    {
     "name": "stdout",
     "output_type": "stream",
     "text": [
      "Populating the interactive namespace from numpy and matplotlib\n"
     ]
    }
   ],
   "source": [
    "import pandas as pd\n",
    "import sqlite3\n",
    "%pylab inline"
   ]
  },
  {
   "cell_type": "code",
   "execution_count": 2,
   "metadata": {
    "collapsed": true
   },
   "outputs": [],
   "source": [
    "con = sqlite3.connect('data.sqlite')"
   ]
  },
  {
   "cell_type": "code",
   "execution_count": 3,
   "metadata": {
    "collapsed": false
   },
   "outputs": [],
   "source": [
    "brejas = pd.read_sql_query('select * from data', con)"
   ]
  },
  {
   "cell_type": "code",
   "execution_count": 4,
   "metadata": {
    "collapsed": false,
    "scrolled": true
   },
   "outputs": [
    {
     "data": {
      "text/html": [
       "<div>\n",
       "<table border=\"1\" class=\"dataframe\">\n",
       "  <thead>\n",
       "    <tr style=\"text-align: right;\">\n",
       "      <th></th>\n",
       "      <th>aparência_max</th>\n",
       "      <th>rating</th>\n",
       "      <th>sensação</th>\n",
       "      <th>sabor</th>\n",
       "      <th>nome</th>\n",
       "      <th>url</th>\n",
       "      <th>alcool</th>\n",
       "      <th>estilo</th>\n",
       "      <th>aroma</th>\n",
       "      <th>aroma_max</th>\n",
       "      <th>conjunto</th>\n",
       "      <th>rating_count</th>\n",
       "      <th>cervejaria</th>\n",
       "      <th>conjunto_max</th>\n",
       "      <th>sensação_max</th>\n",
       "      <th>pais</th>\n",
       "      <th>aparência</th>\n",
       "      <th>sabor_max</th>\n",
       "      <th>overall_rating</th>\n",
       "    </tr>\n",
       "  </thead>\n",
       "  <tbody>\n",
       "    <tr>\n",
       "      <th>0</th>\n",
       "      <td>5</td>\n",
       "      <td>3.1</td>\n",
       "      <td>3</td>\n",
       "      <td>12</td>\n",
       "      <td>Heineken</td>\n",
       "      <td>http://www.brejas.com.br/cerveja/holanda/heineken</td>\n",
       "      <td>0.050</td>\n",
       "      <td>Premium American Lager</td>\n",
       "      <td>6</td>\n",
       "      <td>10</td>\n",
       "      <td>6</td>\n",
       "      <td>623</td>\n",
       "      <td>Cervejaria Heineken</td>\n",
       "      <td>10</td>\n",
       "      <td>5</td>\n",
       "      <td>Holanda</td>\n",
       "      <td>3</td>\n",
       "      <td>20</td>\n",
       "      <td>3.1</td>\n",
       "    </tr>\n",
       "    <tr>\n",
       "      <th>1</th>\n",
       "      <td>5</td>\n",
       "      <td>3.9</td>\n",
       "      <td>4</td>\n",
       "      <td>15</td>\n",
       "      <td>Colorado Indica</td>\n",
       "      <td>http://www.brejas.com.br/cerveja/brasil/colora...</td>\n",
       "      <td>0.070</td>\n",
       "      <td>India Pale Ale (IPA)</td>\n",
       "      <td>7</td>\n",
       "      <td>10</td>\n",
       "      <td>8</td>\n",
       "      <td>464</td>\n",
       "      <td>Cervejaria Colorado</td>\n",
       "      <td>10</td>\n",
       "      <td>5</td>\n",
       "      <td>Brasil</td>\n",
       "      <td>4</td>\n",
       "      <td>20</td>\n",
       "      <td>3.9</td>\n",
       "    </tr>\n",
       "    <tr>\n",
       "      <th>2</th>\n",
       "      <td>5</td>\n",
       "      <td>3.8</td>\n",
       "      <td>4</td>\n",
       "      <td>15</td>\n",
       "      <td>Leffe Blonde</td>\n",
       "      <td>http://www.brejas.com.br/cerveja/belgica/leffe...</td>\n",
       "      <td>0.066</td>\n",
       "      <td>Belgian Blond Ale</td>\n",
       "      <td>7</td>\n",
       "      <td>10</td>\n",
       "      <td>8</td>\n",
       "      <td>455</td>\n",
       "      <td>Abbaye de Leffe</td>\n",
       "      <td>10</td>\n",
       "      <td>5</td>\n",
       "      <td>Bélgica</td>\n",
       "      <td>4</td>\n",
       "      <td>20</td>\n",
       "      <td>3.8</td>\n",
       "    </tr>\n",
       "    <tr>\n",
       "      <th>3</th>\n",
       "      <td>5</td>\n",
       "      <td>3.7</td>\n",
       "      <td>4</td>\n",
       "      <td>15</td>\n",
       "      <td>Hoegaarden</td>\n",
       "      <td>http://www.brejas.com.br/cerveja/belgica/hoega...</td>\n",
       "      <td>0.049</td>\n",
       "      <td>Witbier</td>\n",
       "      <td>7</td>\n",
       "      <td>10</td>\n",
       "      <td>8</td>\n",
       "      <td>455</td>\n",
       "      <td>Brouwerij Hoegaarden</td>\n",
       "      <td>10</td>\n",
       "      <td>5</td>\n",
       "      <td>Bélgica</td>\n",
       "      <td>4</td>\n",
       "      <td>20</td>\n",
       "      <td>3.7</td>\n",
       "    </tr>\n",
       "    <tr>\n",
       "      <th>4</th>\n",
       "      <td>5</td>\n",
       "      <td>2.9</td>\n",
       "      <td>3</td>\n",
       "      <td>11</td>\n",
       "      <td>Stella Artois</td>\n",
       "      <td>http://www.brejas.com.br/cerveja/belgica/stell...</td>\n",
       "      <td>0.052</td>\n",
       "      <td>Premium American Lager</td>\n",
       "      <td>5</td>\n",
       "      <td>10</td>\n",
       "      <td>6</td>\n",
       "      <td>426</td>\n",
       "      <td>Stella Artois</td>\n",
       "      <td>10</td>\n",
       "      <td>5</td>\n",
       "      <td>Bélgica</td>\n",
       "      <td>3</td>\n",
       "      <td>20</td>\n",
       "      <td>2.9</td>\n",
       "    </tr>\n",
       "  </tbody>\n",
       "</table>\n",
       "</div>"
      ],
      "text/plain": [
       "   aparência_max  rating  sensação  sabor             nome  \\\n",
       "0              5     3.1         3     12         Heineken   \n",
       "1              5     3.9         4     15  Colorado Indica   \n",
       "2              5     3.8         4     15     Leffe Blonde   \n",
       "3              5     3.7         4     15       Hoegaarden   \n",
       "4              5     2.9         3     11    Stella Artois   \n",
       "\n",
       "                                                 url  alcool  \\\n",
       "0  http://www.brejas.com.br/cerveja/holanda/heineken   0.050   \n",
       "1  http://www.brejas.com.br/cerveja/brasil/colora...   0.070   \n",
       "2  http://www.brejas.com.br/cerveja/belgica/leffe...   0.066   \n",
       "3  http://www.brejas.com.br/cerveja/belgica/hoega...   0.049   \n",
       "4  http://www.brejas.com.br/cerveja/belgica/stell...   0.052   \n",
       "\n",
       "                   estilo  aroma  aroma_max  conjunto  rating_count  \\\n",
       "0  Premium American Lager      6         10         6           623   \n",
       "1    India Pale Ale (IPA)      7         10         8           464   \n",
       "2       Belgian Blond Ale      7         10         8           455   \n",
       "3                 Witbier      7         10         8           455   \n",
       "4  Premium American Lager      5         10         6           426   \n",
       "\n",
       "             cervejaria  conjunto_max  sensação_max     pais  aparência  \\\n",
       "0   Cervejaria Heineken            10             5  Holanda          3   \n",
       "1   Cervejaria Colorado            10             5   Brasil          4   \n",
       "2       Abbaye de Leffe            10             5  Bélgica          4   \n",
       "3  Brouwerij Hoegaarden            10             5  Bélgica          4   \n",
       "4         Stella Artois            10             5  Bélgica          3   \n",
       "\n",
       "   sabor_max  overall_rating  \n",
       "0         20             3.1  \n",
       "1         20             3.9  \n",
       "2         20             3.8  \n",
       "3         20             3.7  \n",
       "4         20             2.9  "
      ]
     },
     "execution_count": 4,
     "metadata": {},
     "output_type": "execute_result"
    }
   ],
   "source": [
    "brejas.head()"
   ]
  },
  {
   "cell_type": "code",
   "execution_count": 5,
   "metadata": {
    "collapsed": false
   },
   "outputs": [
    {
     "data": {
      "text/plain": [
       "aparência_max       int64\n",
       "rating            float64\n",
       "sensação            int64\n",
       "sabor               int64\n",
       "nome               object\n",
       "url                object\n",
       "alcool            float64\n",
       "estilo             object\n",
       "aroma               int64\n",
       "aroma_max           int64\n",
       "conjunto            int64\n",
       "rating_count        int64\n",
       "cervejaria         object\n",
       "conjunto_max        int64\n",
       "sensação_max        int64\n",
       "pais               object\n",
       "aparência           int64\n",
       "sabor_max           int64\n",
       "overall_rating    float64\n",
       "dtype: object"
      ]
     },
     "execution_count": 5,
     "metadata": {},
     "output_type": "execute_result"
    }
   ],
   "source": [
    "brejas.dtypes"
   ]
  },
  {
   "cell_type": "code",
   "execution_count": 6,
   "metadata": {
    "collapsed": false
   },
   "outputs": [
    {
     "data": {
      "text/plain": [
       "estilo\n",
       "Altbier                                     3\n",
       "Amber Lager                                28\n",
       "American Amber Ale                         30\n",
       "American Brown Ale                         15\n",
       "American IPA                                9\n",
       "American Pale Ale                          78\n",
       "American Stout                             11\n",
       "American Wheat/Rye                         10\n",
       "American Wild Ale                           1\n",
       "Barley Wine                                21\n",
       "Belgian Blond Ale                          38\n",
       "Belgian Dark Strong Ale                    52\n",
       "Belgian Dubbel                             36\n",
       "Belgian Golden Strong Ale                  52\n",
       "Belgian IPA                                 3\n",
       "Belgian Pale Ale                           20\n",
       "Belgian Quadrupel / ABT                     8\n",
       "Belgian Specialty Ale                      25\n",
       "Belgian Tripel                             47\n",
       "Berliner Weisse                             3\n",
       "Biere de Garde                              8\n",
       "Bière de Champagne / Bière Brut             7\n",
       "Black IPA                                  18\n",
       "Blond Ale                                  13\n",
       "Bohemian Pilsener                          41\n",
       "Christmas/Winter Specialty Spiced Beer      5\n",
       "Classic American Pilsner                    9\n",
       "Cream Ale                                   7\n",
       "Dark American Lager                        15\n",
       "Doppelbock                                 18\n",
       "                                         ... \n",
       "Mild Ale                                    2\n",
       "Munich Dunkel                              29\n",
       "Munich Helles                              20\n",
       "Oatmeal Stout                               7\n",
       "Oktoberfest/Marzen                         18\n",
       "Old Ale                                    22\n",
       "Other Smoked Beer                           7\n",
       "Porter                                     55\n",
       "Premium American Lager                    128\n",
       "Pumpkin Ale                                 7\n",
       "Rauchbier                                   8\n",
       "Russian Imperial Stout                     40\n",
       "Saison / Farmhouse                         40\n",
       "Schwarzbier                                24\n",
       "Scottish                                   11\n",
       "Sem álcool                                 12\n",
       "Session IPA                                 4\n",
       "Special/Premium Bitter                     15\n",
       "Specialty Beer                             60\n",
       "Specialty Cider and Perry                   3\n",
       "Spice/Herb/Vegetable Beer                  20\n",
       "Standard American Lager                   148\n",
       "Standard Bitter                            12\n",
       "Steam Beer                                  1\n",
       "Strong Scotch Ale                          14\n",
       "Sweet Stout                                18\n",
       "Traditional Bock                           20\n",
       "Vienna Lager                               24\n",
       "Witbier                                    57\n",
       "Wood Aged Beer                             29\n",
       "Name: estilo, dtype: int64"
      ]
     },
     "execution_count": 6,
     "metadata": {},
     "output_type": "execute_result"
    }
   ],
   "source": [
    "brejas.groupby('estilo').estilo.count()"
   ]
  },
  {
   "cell_type": "code",
   "execution_count": 7,
   "metadata": {
    "collapsed": false
   },
   "outputs": [],
   "source": [
    "beer_pairs = [(b1, b2) for b1 in brejas.nome for b2 in brejas.nome if b1 != b2]"
   ]
  },
  {
   "cell_type": "code",
   "execution_count": 80,
   "metadata": {
    "collapsed": false
   },
   "outputs": [
    {
     "data": {
      "text/plain": [
       "aparência_max                                                     5\n",
       "rating                                                          3.1\n",
       "sensação                                                          3\n",
       "sabor                                                            12\n",
       "nome                                                       Heineken\n",
       "url               http://www.brejas.com.br/cerveja/holanda/heineken\n",
       "alcool                                                         0.05\n",
       "estilo                                       Premium American Lager\n",
       "aroma                                                             6\n",
       "aroma_max                                                        10\n",
       "conjunto                                                          6\n",
       "rating_count                                                    623\n",
       "cervejaria                                      Cervejaria Heineken\n",
       "conjunto_max                                                     10\n",
       "sensação_max                                                      5\n",
       "pais                                                        Holanda\n",
       "aparência                                                         3\n",
       "sabor_max                                                        20\n",
       "overall_rating                                                  3.1\n",
       "Name: 0, dtype: object"
      ]
     },
     "execution_count": 80,
     "metadata": {},
     "output_type": "execute_result"
    }
   ],
   "source": [
    "brejas.iloc[0]"
   ]
  },
  {
   "cell_type": "code",
   "execution_count": 8,
   "metadata": {
    "collapsed": false
   },
   "outputs": [],
   "source": [
    "def beer_reviews_vector(beer, normalize=False):\n",
    "    #     cols = ['aroma', 'sensação', 'aparência', 'sabor', 'conjunto', 'overall_rating']\n",
    "    #     vec = beer[cols]\n",
    "    if beer.shape[0] > 1:\n",
    "        beer = beer.iloc[0]\n",
    "    vec = [beer['aroma'], beer['sensação'], beer['aparência'], beer['sabor'], beer['conjunto'], beer['overall_rating']]\n",
    "    vec = np.array([float(v) for v in vec])\n",
    "    if normalize:\n",
    "        vecm = [beer['aroma_max'], beer['sensação_max'], beer['aparência_max'], beer['sabor_max'], beer['conjunto_max'], 5.0]\n",
    "        vecm = np.array([float(v) for v in vecm])\n",
    "        vec = vec / vecm\n",
    "\n",
    "    return vec\n",
    "\n",
    "def calculate_distance(vec1, vec2):\n",
    "    return np.sqrt(np.sum((vec1-vec2)**2))\n",
    "\n",
    "def beer_calculate_distance(beer1, beer2, norm=False):\n",
    "    beer1 = brejas[brejas.nome == beer1]\n",
    "    beer2 = brejas[brejas.nome == beer2]\n",
    "    return calculate_distance(beer_reviews_vector(beer1, norm), beer_reviews_vector(beer2, norm))\n",
    "\n",
    "vectors = {nome: beer_reviews_vector(brejas[brejas.nome == nome]) for nome in brejas.nome}\n",
    "vectors_n = {nome: beer_reviews_vector(brejas[brejas.nome == nome], True) for nome in brejas.nome}"
   ]
  },
  {
   "cell_type": "code",
   "execution_count": 9,
   "metadata": {
    "collapsed": false
   },
   "outputs": [],
   "source": [
    "dist = [calculate_distance(vectors[bp[0]], vectors[bp[1]]) for bp in beer_pairs]"
   ]
  },
  {
   "cell_type": "code",
   "execution_count": 10,
   "metadata": {
    "collapsed": false
   },
   "outputs": [
    {
     "data": {
      "image/png": "[encoded data removed]",
      "text/plain": [
       "<matplotlib.figure.Figure at 0x1047ddfd0>"
      ]
     },
     "metadata": {},
     "output_type": "display_data"
    }
   ],
   "source": [
    "pyplot.hist(dist, bins=100);"
   ]
  },
  {
   "cell_type": "code",
   "execution_count": 11,
   "metadata": {
    "collapsed": true
   },
   "outputs": [],
   "source": [
    "dist_n = [calculate_distance(vectors_n[bp[0]], vectors_n[bp[1]]) for bp in beer_pairs]"
   ]
  },
  {
   "cell_type": "code",
   "execution_count": 93,
   "metadata": {
    "collapsed": false
   },
   "outputs": [
    {
     "data": {
      "image/png": "[encoded data removed]",
      "text/plain": [
       "<matplotlib.figure.Figure at 0x12962fa20>"
      ]
     },
     "metadata": {},
     "output_type": "display_data"
    }
   ],
   "source": [
    "pyplot.hist(dist_n, bins=100);"
   ]
  },
  {
   "cell_type": "code",
   "execution_count": 12,
   "metadata": {
    "collapsed": true
   },
   "outputs": [],
   "source": [
    "n1 = [p[0] for p in beer_pairs]\n",
    "n2 = [p[1] for p in beer_pairs]\n",
    "simi = pd.DataFrame({'n1': n1, 'nome': n2, 'dist': dist, 'dist_n': dist_n})"
   ]
  },
  {
   "cell_type": "code",
   "execution_count": 16,
   "metadata": {
    "collapsed": false
   },
   "outputs": [
    {
     "data": {
      "text/html": [
       "<div>\n",
       "<table border=\"1\" class=\"dataframe\">\n",
       "  <thead>\n",
       "    <tr style=\"text-align: right;\">\n",
       "      <th></th>\n",
       "      <th>dist</th>\n",
       "      <th>dist_n</th>\n",
       "      <th>n1</th>\n",
       "      <th>nome</th>\n",
       "      <th>aparência_max</th>\n",
       "      <th>rating</th>\n",
       "      <th>sensação</th>\n",
       "      <th>sabor</th>\n",
       "      <th>url</th>\n",
       "      <th>alcool</th>\n",
       "      <th>...</th>\n",
       "      <th>aroma_max</th>\n",
       "      <th>conjunto</th>\n",
       "      <th>rating_count</th>\n",
       "      <th>cervejaria</th>\n",
       "      <th>conjunto_max</th>\n",
       "      <th>sensação_max</th>\n",
       "      <th>pais</th>\n",
       "      <th>aparência</th>\n",
       "      <th>sabor_max</th>\n",
       "      <th>overall_rating</th>\n",
       "    </tr>\n",
       "  </thead>\n",
       "  <tbody>\n",
       "    <tr>\n",
       "      <th>887</th>\n",
       "      <td>0.0</td>\n",
       "      <td>0.00</td>\n",
       "      <td>Heineken</td>\n",
       "      <td>Colorado Cauim Allez Les Bleus</td>\n",
       "      <td>5</td>\n",
       "      <td>3.1</td>\n",
       "      <td>3</td>\n",
       "      <td>12</td>\n",
       "      <td>http://www.brejas.com.br/cerveja/brasil/colora...</td>\n",
       "      <td>0.045</td>\n",
       "      <td>...</td>\n",
       "      <td>10</td>\n",
       "      <td>6</td>\n",
       "      <td>23</td>\n",
       "      <td>Cervejaria Colorado</td>\n",
       "      <td>10</td>\n",
       "      <td>5</td>\n",
       "      <td>Brasil</td>\n",
       "      <td>3</td>\n",
       "      <td>20</td>\n",
       "      <td>3.1</td>\n",
       "    </tr>\n",
       "    <tr>\n",
       "      <th>403</th>\n",
       "      <td>0.0</td>\n",
       "      <td>0.00</td>\n",
       "      <td>Heineken</td>\n",
       "      <td>Ravache</td>\n",
       "      <td>5</td>\n",
       "      <td>3.1</td>\n",
       "      <td>3</td>\n",
       "      <td>12</td>\n",
       "      <td>http://www.brejas.com.br/cerveja/brasil/ravache</td>\n",
       "      <td>0.048</td>\n",
       "      <td>...</td>\n",
       "      <td>10</td>\n",
       "      <td>6</td>\n",
       "      <td>57</td>\n",
       "      <td>Cervejaria Guitt´s</td>\n",
       "      <td>10</td>\n",
       "      <td>5</td>\n",
       "      <td>Brasil</td>\n",
       "      <td>3</td>\n",
       "      <td>20</td>\n",
       "      <td>3.1</td>\n",
       "    </tr>\n",
       "    <tr>\n",
       "      <th>332</th>\n",
       "      <td>0.0</td>\n",
       "      <td>0.00</td>\n",
       "      <td>Heineken</td>\n",
       "      <td>Way Premium Lager</td>\n",
       "      <td>5</td>\n",
       "      <td>3.1</td>\n",
       "      <td>3</td>\n",
       "      <td>12</td>\n",
       "      <td>http://www.brejas.com.br/cerveja/brasil/way-pr...</td>\n",
       "      <td>0.053</td>\n",
       "      <td>...</td>\n",
       "      <td>10</td>\n",
       "      <td>6</td>\n",
       "      <td>66</td>\n",
       "      <td>Cervejaria Way</td>\n",
       "      <td>10</td>\n",
       "      <td>5</td>\n",
       "      <td>Brasil</td>\n",
       "      <td>3</td>\n",
       "      <td>20</td>\n",
       "      <td>3.1</td>\n",
       "    </tr>\n",
       "    <tr>\n",
       "      <th>1270</th>\n",
       "      <td>0.1</td>\n",
       "      <td>0.02</td>\n",
       "      <td>Heineken</td>\n",
       "      <td>GaudenBier Lager Naturtrübe</td>\n",
       "      <td>5</td>\n",
       "      <td>3.0</td>\n",
       "      <td>3</td>\n",
       "      <td>12</td>\n",
       "      <td>http://www.brejas.com.br/cerveja/brasil/gauden...</td>\n",
       "      <td>0.047</td>\n",
       "      <td>...</td>\n",
       "      <td>10</td>\n",
       "      <td>6</td>\n",
       "      <td>14</td>\n",
       "      <td>Gaudenbier Cervejaria</td>\n",
       "      <td>10</td>\n",
       "      <td>5</td>\n",
       "      <td>Brasil</td>\n",
       "      <td>3</td>\n",
       "      <td>20</td>\n",
       "      <td>3.0</td>\n",
       "    </tr>\n",
       "    <tr>\n",
       "      <th>904</th>\n",
       "      <td>0.1</td>\n",
       "      <td>0.02</td>\n",
       "      <td>Heineken</td>\n",
       "      <td>Bierbaum Gold</td>\n",
       "      <td>5</td>\n",
       "      <td>3.0</td>\n",
       "      <td>3</td>\n",
       "      <td>12</td>\n",
       "      <td>http://www.brejas.com.br/cerveja/brasil/bierba...</td>\n",
       "      <td>0.057</td>\n",
       "      <td>...</td>\n",
       "      <td>10</td>\n",
       "      <td>6</td>\n",
       "      <td>23</td>\n",
       "      <td>Cervejaria Bierbaum</td>\n",
       "      <td>10</td>\n",
       "      <td>5</td>\n",
       "      <td>Brasil</td>\n",
       "      <td>3</td>\n",
       "      <td>20</td>\n",
       "      <td>3.0</td>\n",
       "    </tr>\n",
       "  </tbody>\n",
       "</table>\n",
       "<p>5 rows × 22 columns</p>\n",
       "</div>"
      ],
      "text/plain": [
       "      dist  dist_n        n1                            nome  aparência_max  \\\n",
       "887    0.0    0.00  Heineken  Colorado Cauim Allez Les Bleus              5   \n",
       "403    0.0    0.00  Heineken                         Ravache              5   \n",
       "332    0.0    0.00  Heineken               Way Premium Lager              5   \n",
       "1270   0.1    0.02  Heineken     GaudenBier Lager Naturtrübe              5   \n",
       "904    0.1    0.02  Heineken                   Bierbaum Gold              5   \n",
       "\n",
       "      rating  sensação  sabor  \\\n",
       "887      3.1         3     12   \n",
       "403      3.1         3     12   \n",
       "332      3.1         3     12   \n",
       "1270     3.0         3     12   \n",
       "904      3.0         3     12   \n",
       "\n",
       "                                                    url  alcool  \\\n",
       "887   http://www.brejas.com.br/cerveja/brasil/colora...   0.045   \n",
       "403     http://www.brejas.com.br/cerveja/brasil/ravache   0.048   \n",
       "332   http://www.brejas.com.br/cerveja/brasil/way-pr...   0.053   \n",
       "1270  http://www.brejas.com.br/cerveja/brasil/gauden...   0.047   \n",
       "904   http://www.brejas.com.br/cerveja/brasil/bierba...   0.057   \n",
       "\n",
       "           ...       aroma_max  conjunto  rating_count             cervejaria  \\\n",
       "887        ...              10         6            23    Cervejaria Colorado   \n",
       "403        ...              10         6            57     Cervejaria Guitt´s   \n",
       "332        ...              10         6            66         Cervejaria Way   \n",
       "1270       ...              10         6            14  Gaudenbier Cervejaria   \n",
       "904        ...              10         6            23    Cervejaria Bierbaum   \n",
       "\n",
       "      conjunto_max sensação_max    pais  aparência sabor_max  overall_rating  \n",
       "887             10            5  Brasil          3        20             3.1  \n",
       "403             10            5  Brasil          3        20             3.1  \n",
       "332             10            5  Brasil          3        20             3.1  \n",
       "1270            10            5  Brasil          3        20             3.0  \n",
       "904             10            5  Brasil          3        20             3.0  \n",
       "\n",
       "[5 rows x 22 columns]"
      ]
     },
     "execution_count": 16,
     "metadata": {},
     "output_type": "execute_result"
    }
   ],
   "source": [
    "x = simi[simi.n1 == 'Heineken']\n",
    "x[x.dist_n == 0]\n",
    "\n",
    "y = pd.merge(x, brejas, on='nome').sort('rating_count', ascending=False)\n",
    "y[y.estilo == \"Premium American Lager\"].sort(['dist_n', 'rating_count']).head()"
   ]
  },
  {
   "cell_type": "code",
   "execution_count": null,
   "metadata": {
    "collapsed": true
   },
   "outputs": [],
   "source": []
  }
 ],
 "metadata": {
  "kernelspec": {
   "display_name": "Python 3",
   "language": "python",
   "name": "python3"
  },
  "language_info": {
   "codemirror_mode": {
    "name": "ipython",
    "version": 3
   },
   "file_extension": ".py",
   "mimetype": "text/x-python",
   "name": "python",
   "nbconvert_exporter": "python",
   "pygments_lexer": "ipython3",
   "version": "3.4.3"
  }
 },
 "nbformat": 4,
 "nbformat_minor": 0
}
