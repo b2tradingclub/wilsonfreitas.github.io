{
 "cells": [
  {
   "cell_type": "code",
   "execution_count": 1,
   "metadata": {
    "collapsed": false
   },
   "outputs": [
    {
     "name": "stdout",
     "output_type": "stream",
     "text": [
      "Populating the interactive namespace from numpy and matplotlib\n"
     ]
    }
   ],
   "source": [
    "import numpy as np\n",
    "import matplotlib.pyplot as plt\n",
    "import pandas as pd\n",
    "import seaborn as sb\n",
    "import Quandl\n",
    "%pylab inline\n",
    "sb.set_context(\"talk\")"
   ]
  },
  {
   "cell_type": "code",
   "execution_count": 78,
   "metadata": {
    "collapsed": false
   },
   "outputs": [],
   "source": [
    "# Quandl.get(\"CURRFX/USDBRL\", trim_start=\"1996-09-09\", trim_end=\"2015-09-25\")\n",
    "# data = Quandl.get([\"BCB/433\", \"BCB/3695\"], trim_start=\"1994-12-01\") # 3695: Dólar Mensal\n",
    "data = Quandl.get([\"BCB/433\", \"CURRFX/USDBRL\"], trim_start=\"1996-09-01\", collapse=\"monthly\")\n",
    "# data2 = Quandl.get(\"BCB/433\", trim_start=\"1999-01-01\")"
   ]
  },
  {
   "cell_type": "code",
   "execution_count": 79,
   "metadata": {
    "collapsed": false
   },
   "outputs": [],
   "source": [
    "data = data[[0,1]]"
   ]
  },
  {
   "cell_type": "code",
   "execution_count": 80,
   "metadata": {
    "collapsed": true
   },
   "outputs": [],
   "source": [
    "data.columns = [\"IPCA\", \"IBOVESPA\"]"
   ]
  },
  {
   "cell_type": "code",
   "execution_count": 81,
   "metadata": {
    "collapsed": false
   },
   "outputs": [
    {
     "data": {
      "text/html": [
       "<div>\n",
       "<table border=\"1\" class=\"dataframe\">\n",
       "  <thead>\n",
       "    <tr style=\"text-align: right;\">\n",
       "      <th></th>\n",
       "      <th>IPCA</th>\n",
       "      <th>IBOVESPA</th>\n",
       "    </tr>\n",
       "    <tr>\n",
       "      <th>Date</th>\n",
       "      <th></th>\n",
       "      <th></th>\n",
       "    </tr>\n",
       "  </thead>\n",
       "  <tbody>\n",
       "    <tr>\n",
       "      <th>1996-09-30</th>\n",
       "      <td>0.15</td>\n",
       "      <td>1.02085</td>\n",
       "    </tr>\n",
       "    <tr>\n",
       "      <th>1996-10-31</th>\n",
       "      <td>0.30</td>\n",
       "      <td>1.02742</td>\n",
       "    </tr>\n",
       "    <tr>\n",
       "      <th>1996-11-30</th>\n",
       "      <td>0.32</td>\n",
       "      <td>1.03268</td>\n",
       "    </tr>\n",
       "    <tr>\n",
       "      <th>1996-12-31</th>\n",
       "      <td>0.47</td>\n",
       "      <td>1.03904</td>\n",
       "    </tr>\n",
       "    <tr>\n",
       "      <th>1997-01-31</th>\n",
       "      <td>1.18</td>\n",
       "      <td>1.04562</td>\n",
       "    </tr>\n",
       "    <tr>\n",
       "      <th>1997-02-28</th>\n",
       "      <td>0.50</td>\n",
       "      <td>1.05104</td>\n",
       "    </tr>\n",
       "    <tr>\n",
       "      <th>1997-03-31</th>\n",
       "      <td>0.51</td>\n",
       "      <td>1.05923</td>\n",
       "    </tr>\n",
       "    <tr>\n",
       "      <th>1997-04-30</th>\n",
       "      <td>0.88</td>\n",
       "      <td>1.06327</td>\n",
       "    </tr>\n",
       "    <tr>\n",
       "      <th>1997-05-31</th>\n",
       "      <td>0.41</td>\n",
       "      <td>1.07233</td>\n",
       "    </tr>\n",
       "    <tr>\n",
       "      <th>1997-06-30</th>\n",
       "      <td>0.54</td>\n",
       "      <td>1.07674</td>\n",
       "    </tr>\n",
       "    <tr>\n",
       "      <th>1997-07-31</th>\n",
       "      <td>0.22</td>\n",
       "      <td>1.08296</td>\n",
       "    </tr>\n",
       "    <tr>\n",
       "      <th>1997-08-31</th>\n",
       "      <td>-0.02</td>\n",
       "      <td>1.09176</td>\n",
       "    </tr>\n",
       "    <tr>\n",
       "      <th>1997-09-30</th>\n",
       "      <td>0.06</td>\n",
       "      <td>1.09593</td>\n",
       "    </tr>\n",
       "    <tr>\n",
       "      <th>1997-10-31</th>\n",
       "      <td>0.23</td>\n",
       "      <td>1.10362</td>\n",
       "    </tr>\n",
       "    <tr>\n",
       "      <th>1997-11-30</th>\n",
       "      <td>0.17</td>\n",
       "      <td>1.10894</td>\n",
       "    </tr>\n",
       "    <tr>\n",
       "      <th>1997-12-31</th>\n",
       "      <td>0.43</td>\n",
       "      <td>1.11622</td>\n",
       "    </tr>\n",
       "    <tr>\n",
       "      <th>1998-01-31</th>\n",
       "      <td>0.71</td>\n",
       "      <td>1.12309</td>\n",
       "    </tr>\n",
       "    <tr>\n",
       "      <th>1998-02-28</th>\n",
       "      <td>0.46</td>\n",
       "      <td>1.12978</td>\n",
       "    </tr>\n",
       "    <tr>\n",
       "      <th>1998-03-31</th>\n",
       "      <td>0.34</td>\n",
       "      <td>1.13671</td>\n",
       "    </tr>\n",
       "    <tr>\n",
       "      <th>1998-04-30</th>\n",
       "      <td>0.24</td>\n",
       "      <td>1.14415</td>\n",
       "    </tr>\n",
       "    <tr>\n",
       "      <th>1998-05-31</th>\n",
       "      <td>0.50</td>\n",
       "      <td>1.14997</td>\n",
       "    </tr>\n",
       "    <tr>\n",
       "      <th>1998-06-30</th>\n",
       "      <td>0.02</td>\n",
       "      <td>1.15645</td>\n",
       "    </tr>\n",
       "    <tr>\n",
       "      <th>1998-07-31</th>\n",
       "      <td>-0.12</td>\n",
       "      <td>1.16261</td>\n",
       "    </tr>\n",
       "    <tr>\n",
       "      <th>1998-08-31</th>\n",
       "      <td>-0.51</td>\n",
       "      <td>1.17658</td>\n",
       "    </tr>\n",
       "    <tr>\n",
       "      <th>1998-09-30</th>\n",
       "      <td>-0.22</td>\n",
       "      <td>1.18491</td>\n",
       "    </tr>\n",
       "    <tr>\n",
       "      <th>1998-10-31</th>\n",
       "      <td>0.02</td>\n",
       "      <td>1.19231</td>\n",
       "    </tr>\n",
       "    <tr>\n",
       "      <th>1998-11-30</th>\n",
       "      <td>-0.12</td>\n",
       "      <td>1.20055</td>\n",
       "    </tr>\n",
       "    <tr>\n",
       "      <th>1998-12-31</th>\n",
       "      <td>0.33</td>\n",
       "      <td>1.20777</td>\n",
       "    </tr>\n",
       "    <tr>\n",
       "      <th>1999-01-31</th>\n",
       "      <td>0.70</td>\n",
       "      <td>2.00087</td>\n",
       "    </tr>\n",
       "    <tr>\n",
       "      <th>1999-02-28</th>\n",
       "      <td>1.05</td>\n",
       "      <td>2.05407</td>\n",
       "    </tr>\n",
       "    <tr>\n",
       "      <th>...</th>\n",
       "      <td>...</td>\n",
       "      <td>...</td>\n",
       "    </tr>\n",
       "    <tr>\n",
       "      <th>2013-04-30</th>\n",
       "      <td>0.55</td>\n",
       "      <td>1.99986</td>\n",
       "    </tr>\n",
       "    <tr>\n",
       "      <th>2013-05-31</th>\n",
       "      <td>0.37</td>\n",
       "      <td>2.10045</td>\n",
       "    </tr>\n",
       "    <tr>\n",
       "      <th>2013-06-30</th>\n",
       "      <td>0.26</td>\n",
       "      <td>2.19450</td>\n",
       "    </tr>\n",
       "    <tr>\n",
       "      <th>2013-07-31</th>\n",
       "      <td>0.03</td>\n",
       "      <td>2.26659</td>\n",
       "    </tr>\n",
       "    <tr>\n",
       "      <th>2013-08-31</th>\n",
       "      <td>0.24</td>\n",
       "      <td>2.35550</td>\n",
       "    </tr>\n",
       "    <tr>\n",
       "      <th>2013-09-30</th>\n",
       "      <td>0.35</td>\n",
       "      <td>2.24071</td>\n",
       "    </tr>\n",
       "    <tr>\n",
       "      <th>2013-10-31</th>\n",
       "      <td>0.57</td>\n",
       "      <td>2.18402</td>\n",
       "    </tr>\n",
       "    <tr>\n",
       "      <th>2013-11-30</th>\n",
       "      <td>0.54</td>\n",
       "      <td>2.31780</td>\n",
       "    </tr>\n",
       "    <tr>\n",
       "      <th>2013-12-31</th>\n",
       "      <td>0.92</td>\n",
       "      <td>2.34893</td>\n",
       "    </tr>\n",
       "    <tr>\n",
       "      <th>2014-01-31</th>\n",
       "      <td>0.55</td>\n",
       "      <td>2.42879</td>\n",
       "    </tr>\n",
       "    <tr>\n",
       "      <th>2014-02-28</th>\n",
       "      <td>0.69</td>\n",
       "      <td>2.34383</td>\n",
       "    </tr>\n",
       "    <tr>\n",
       "      <th>2014-03-31</th>\n",
       "      <td>0.92</td>\n",
       "      <td>2.27097</td>\n",
       "    </tr>\n",
       "    <tr>\n",
       "      <th>2014-04-30</th>\n",
       "      <td>0.67</td>\n",
       "      <td>2.22995</td>\n",
       "    </tr>\n",
       "    <tr>\n",
       "      <th>2014-05-31</th>\n",
       "      <td>0.46</td>\n",
       "      <td>2.23243</td>\n",
       "    </tr>\n",
       "    <tr>\n",
       "      <th>2014-06-30</th>\n",
       "      <td>0.40</td>\n",
       "      <td>2.20535</td>\n",
       "    </tr>\n",
       "    <tr>\n",
       "      <th>2014-07-31</th>\n",
       "      <td>0.01</td>\n",
       "      <td>2.23182</td>\n",
       "    </tr>\n",
       "    <tr>\n",
       "      <th>2014-08-31</th>\n",
       "      <td>0.25</td>\n",
       "      <td>2.25235</td>\n",
       "    </tr>\n",
       "    <tr>\n",
       "      <th>2014-09-30</th>\n",
       "      <td>0.57</td>\n",
       "      <td>2.43588</td>\n",
       "    </tr>\n",
       "    <tr>\n",
       "      <th>2014-10-31</th>\n",
       "      <td>0.42</td>\n",
       "      <td>2.45959</td>\n",
       "    </tr>\n",
       "    <tr>\n",
       "      <th>2014-11-30</th>\n",
       "      <td>0.51</td>\n",
       "      <td>2.51230</td>\n",
       "    </tr>\n",
       "    <tr>\n",
       "      <th>2014-12-31</th>\n",
       "      <td>0.78</td>\n",
       "      <td>2.68622</td>\n",
       "    </tr>\n",
       "    <tr>\n",
       "      <th>2015-01-31</th>\n",
       "      <td>1.24</td>\n",
       "      <td>2.58389</td>\n",
       "    </tr>\n",
       "    <tr>\n",
       "      <th>2015-02-28</th>\n",
       "      <td>1.22</td>\n",
       "      <td>2.86946</td>\n",
       "    </tr>\n",
       "    <tr>\n",
       "      <th>2015-03-31</th>\n",
       "      <td>1.32</td>\n",
       "      <td>3.24877</td>\n",
       "    </tr>\n",
       "    <tr>\n",
       "      <th>2015-04-30</th>\n",
       "      <td>0.71</td>\n",
       "      <td>2.93092</td>\n",
       "    </tr>\n",
       "    <tr>\n",
       "      <th>2015-05-31</th>\n",
       "      <td>0.74</td>\n",
       "      <td>3.15383</td>\n",
       "    </tr>\n",
       "    <tr>\n",
       "      <th>2015-06-30</th>\n",
       "      <td>0.79</td>\n",
       "      <td>3.14274</td>\n",
       "    </tr>\n",
       "    <tr>\n",
       "      <th>2015-07-31</th>\n",
       "      <td>0.62</td>\n",
       "      <td>3.34648</td>\n",
       "    </tr>\n",
       "    <tr>\n",
       "      <th>2015-08-31</th>\n",
       "      <td>0.22</td>\n",
       "      <td>3.58149</td>\n",
       "    </tr>\n",
       "    <tr>\n",
       "      <th>2015-09-30</th>\n",
       "      <td>NaN</td>\n",
       "      <td>4.12643</td>\n",
       "    </tr>\n",
       "  </tbody>\n",
       "</table>\n",
       "<p>229 rows × 2 columns</p>\n",
       "</div>"
      ],
      "text/plain": [
       "            IPCA  IBOVESPA\n",
       "Date                      \n",
       "1996-09-30  0.15   1.02085\n",
       "1996-10-31  0.30   1.02742\n",
       "1996-11-30  0.32   1.03268\n",
       "1996-12-31  0.47   1.03904\n",
       "1997-01-31  1.18   1.04562\n",
       "1997-02-28  0.50   1.05104\n",
       "1997-03-31  0.51   1.05923\n",
       "1997-04-30  0.88   1.06327\n",
       "1997-05-31  0.41   1.07233\n",
       "1997-06-30  0.54   1.07674\n",
       "1997-07-31  0.22   1.08296\n",
       "1997-08-31 -0.02   1.09176\n",
       "1997-09-30  0.06   1.09593\n",
       "1997-10-31  0.23   1.10362\n",
       "1997-11-30  0.17   1.10894\n",
       "1997-12-31  0.43   1.11622\n",
       "1998-01-31  0.71   1.12309\n",
       "1998-02-28  0.46   1.12978\n",
       "1998-03-31  0.34   1.13671\n",
       "1998-04-30  0.24   1.14415\n",
       "1998-05-31  0.50   1.14997\n",
       "1998-06-30  0.02   1.15645\n",
       "1998-07-31 -0.12   1.16261\n",
       "1998-08-31 -0.51   1.17658\n",
       "1998-09-30 -0.22   1.18491\n",
       "1998-10-31  0.02   1.19231\n",
       "1998-11-30 -0.12   1.20055\n",
       "1998-12-31  0.33   1.20777\n",
       "1999-01-31  0.70   2.00087\n",
       "1999-02-28  1.05   2.05407\n",
       "...          ...       ...\n",
       "2013-04-30  0.55   1.99986\n",
       "2013-05-31  0.37   2.10045\n",
       "2013-06-30  0.26   2.19450\n",
       "2013-07-31  0.03   2.26659\n",
       "2013-08-31  0.24   2.35550\n",
       "2013-09-30  0.35   2.24071\n",
       "2013-10-31  0.57   2.18402\n",
       "2013-11-30  0.54   2.31780\n",
       "2013-12-31  0.92   2.34893\n",
       "2014-01-31  0.55   2.42879\n",
       "2014-02-28  0.69   2.34383\n",
       "2014-03-31  0.92   2.27097\n",
       "2014-04-30  0.67   2.22995\n",
       "2014-05-31  0.46   2.23243\n",
       "2014-06-30  0.40   2.20535\n",
       "2014-07-31  0.01   2.23182\n",
       "2014-08-31  0.25   2.25235\n",
       "2014-09-30  0.57   2.43588\n",
       "2014-10-31  0.42   2.45959\n",
       "2014-11-30  0.51   2.51230\n",
       "2014-12-31  0.78   2.68622\n",
       "2015-01-31  1.24   2.58389\n",
       "2015-02-28  1.22   2.86946\n",
       "2015-03-31  1.32   3.24877\n",
       "2015-04-30  0.71   2.93092\n",
       "2015-05-31  0.74   3.15383\n",
       "2015-06-30  0.79   3.14274\n",
       "2015-07-31  0.62   3.34648\n",
       "2015-08-31  0.22   3.58149\n",
       "2015-09-30   NaN   4.12643\n",
       "\n",
       "[229 rows x 2 columns]"
      ]
     },
     "execution_count": 81,
     "metadata": {},
     "output_type": "execute_result"
    }
   ],
   "source": [
    "data"
   ]
  },
  {
   "cell_type": "code",
   "execution_count": 82,
   "metadata": {
    "collapsed": false
   },
   "outputs": [
    {
     "data": {
      "text/html": [
       "<div>\n",
       "<table border=\"1\" class=\"dataframe\">\n",
       "  <thead>\n",
       "    <tr style=\"text-align: right;\">\n",
       "      <th></th>\n",
       "      <th>IPCA</th>\n",
       "      <th>IBOVESPA</th>\n",
       "    </tr>\n",
       "    <tr>\n",
       "      <th>Date</th>\n",
       "      <th></th>\n",
       "      <th></th>\n",
       "    </tr>\n",
       "  </thead>\n",
       "  <tbody>\n",
       "    <tr>\n",
       "      <th>1996-09-30</th>\n",
       "      <td>0.15</td>\n",
       "      <td>1.02085</td>\n",
       "    </tr>\n",
       "    <tr>\n",
       "      <th>1996-10-31</th>\n",
       "      <td>0.30</td>\n",
       "      <td>1.02742</td>\n",
       "    </tr>\n",
       "    <tr>\n",
       "      <th>1996-11-30</th>\n",
       "      <td>0.32</td>\n",
       "      <td>1.03268</td>\n",
       "    </tr>\n",
       "    <tr>\n",
       "      <th>1996-12-31</th>\n",
       "      <td>0.47</td>\n",
       "      <td>1.03904</td>\n",
       "    </tr>\n",
       "    <tr>\n",
       "      <th>1997-01-31</th>\n",
       "      <td>1.18</td>\n",
       "      <td>1.04562</td>\n",
       "    </tr>\n",
       "  </tbody>\n",
       "</table>\n",
       "</div>"
      ],
      "text/plain": [
       "            IPCA  IBOVESPA\n",
       "Date                      \n",
       "1996-09-30  0.15   1.02085\n",
       "1996-10-31  0.30   1.02742\n",
       "1996-11-30  0.32   1.03268\n",
       "1996-12-31  0.47   1.03904\n",
       "1997-01-31  1.18   1.04562"
      ]
     },
     "execution_count": 82,
     "metadata": {},
     "output_type": "execute_result"
    }
   ],
   "source": [
    "data.head()"
   ]
  },
  {
   "cell_type": "code",
   "execution_count": 83,
   "metadata": {
    "collapsed": false
   },
   "outputs": [
    {
     "data": {
      "text/plain": [
       "Date\n",
       "1996-09-30    0.00657\n",
       "1996-10-31    0.00526\n",
       "1996-11-30    0.00636\n",
       "1996-12-31    0.00658\n",
       "1997-01-31    0.00542\n",
       "Name: IBOVESPA, dtype: float64"
      ]
     },
     "execution_count": 83,
     "metadata": {},
     "output_type": "execute_result"
    }
   ],
   "source": [
    "data[\"IBOVESPA\"].diff().shift(-1).head()"
   ]
  },
  {
   "cell_type": "code",
   "execution_count": 84,
   "metadata": {
    "collapsed": false
   },
   "outputs": [
    {
     "data": {
      "text/plain": [
       "Date\n",
       "1996-09-30    1.02085\n",
       "1996-10-31    1.02742\n",
       "1996-11-30    1.03268\n",
       "1996-12-31    1.03904\n",
       "1997-01-31    1.04562\n",
       "Name: IBOVESPA, dtype: float64"
      ]
     },
     "execution_count": 84,
     "metadata": {},
     "output_type": "execute_result"
    }
   ],
   "source": [
    "data[\"IBOVESPA\"].head()"
   ]
  },
  {
   "cell_type": "code",
   "execution_count": 85,
   "metadata": {
    "collapsed": true
   },
   "outputs": [],
   "source": [
    "data[\"IBOVESPA_D\"] = (data[\"IBOVESPA\"].diff().shift(-1)/data[\"IBOVESPA\"]).shift()"
   ]
  },
  {
   "cell_type": "code",
   "execution_count": 86,
   "metadata": {
    "collapsed": false
   },
   "outputs": [
    {
     "data": {
      "text/html": [
       "<div>\n",
       "<table border=\"1\" class=\"dataframe\">\n",
       "  <thead>\n",
       "    <tr style=\"text-align: right;\">\n",
       "      <th></th>\n",
       "      <th>IPCA</th>\n",
       "      <th>IBOVESPA</th>\n",
       "      <th>IBOVESPA_D</th>\n",
       "    </tr>\n",
       "    <tr>\n",
       "      <th>Date</th>\n",
       "      <th></th>\n",
       "      <th></th>\n",
       "      <th></th>\n",
       "    </tr>\n",
       "  </thead>\n",
       "  <tbody>\n",
       "    <tr>\n",
       "      <th>1996-09-30</th>\n",
       "      <td>0.15</td>\n",
       "      <td>1.02085</td>\n",
       "      <td>NaN</td>\n",
       "    </tr>\n",
       "    <tr>\n",
       "      <th>1996-10-31</th>\n",
       "      <td>0.30</td>\n",
       "      <td>1.02742</td>\n",
       "      <td>0.006436</td>\n",
       "    </tr>\n",
       "    <tr>\n",
       "      <th>1996-11-30</th>\n",
       "      <td>0.32</td>\n",
       "      <td>1.03268</td>\n",
       "      <td>0.005120</td>\n",
       "    </tr>\n",
       "    <tr>\n",
       "      <th>1996-12-31</th>\n",
       "      <td>0.47</td>\n",
       "      <td>1.03904</td>\n",
       "      <td>0.006159</td>\n",
       "    </tr>\n",
       "    <tr>\n",
       "      <th>1997-01-31</th>\n",
       "      <td>1.18</td>\n",
       "      <td>1.04562</td>\n",
       "      <td>0.006333</td>\n",
       "    </tr>\n",
       "  </tbody>\n",
       "</table>\n",
       "</div>"
      ],
      "text/plain": [
       "            IPCA  IBOVESPA  IBOVESPA_D\n",
       "Date                                  \n",
       "1996-09-30  0.15   1.02085         NaN\n",
       "1996-10-31  0.30   1.02742    0.006436\n",
       "1996-11-30  0.32   1.03268    0.005120\n",
       "1996-12-31  0.47   1.03904    0.006159\n",
       "1997-01-31  1.18   1.04562    0.006333"
      ]
     },
     "execution_count": 86,
     "metadata": {},
     "output_type": "execute_result"
    }
   ],
   "source": [
    "data.head()"
   ]
  },
  {
   "cell_type": "code",
   "execution_count": 87,
   "metadata": {
    "collapsed": false
   },
   "outputs": [
    {
     "data": {
      "text/plain": [
       "Date\n",
       "1996-09-30        NaN\n",
       "1996-10-31    1.02742\n",
       "1996-11-30    1.03268\n",
       "1996-12-31    1.03904\n",
       "1997-01-31    1.04562\n",
       "Name: IBOVESPA_D, dtype: float64"
      ]
     },
     "execution_count": 87,
     "metadata": {},
     "output_type": "execute_result"
    }
   ],
   "source": [
    "# (data[\"IBOVESPA\"][0]*(1 + data[\"IBOVESPA_D\"]).shift(-1)).shift().head()\n",
    "data[\"IBOVESPA\"][0]*(np.cumprod((1 + data[\"IBOVESPA_D\"]).shift(-1)).shift()).head()"
   ]
  },
  {
   "cell_type": "code",
   "execution_count": 88,
   "metadata": {
    "collapsed": false
   },
   "outputs": [
    {
     "data": {
      "text/html": [
       "<div>\n",
       "<table border=\"1\" class=\"dataframe\">\n",
       "  <thead>\n",
       "    <tr style=\"text-align: right;\">\n",
       "      <th></th>\n",
       "      <th>IPCA</th>\n",
       "      <th>IBOVESPA</th>\n",
       "      <th>IBOVESPA_D</th>\n",
       "      <th>IBOVESPA_D_DEFL</th>\n",
       "    </tr>\n",
       "    <tr>\n",
       "      <th>Date</th>\n",
       "      <th></th>\n",
       "      <th></th>\n",
       "      <th></th>\n",
       "      <th></th>\n",
       "    </tr>\n",
       "  </thead>\n",
       "  <tbody>\n",
       "    <tr>\n",
       "      <th>2015-05-31</th>\n",
       "      <td>0.74</td>\n",
       "      <td>3.15383</td>\n",
       "      <td>0.076055</td>\n",
       "      <td>0.068150</td>\n",
       "    </tr>\n",
       "    <tr>\n",
       "      <th>2015-06-30</th>\n",
       "      <td>0.79</td>\n",
       "      <td>3.14274</td>\n",
       "      <td>-0.003516</td>\n",
       "      <td>-0.011327</td>\n",
       "    </tr>\n",
       "    <tr>\n",
       "      <th>2015-07-31</th>\n",
       "      <td>0.62</td>\n",
       "      <td>3.34648</td>\n",
       "      <td>0.064829</td>\n",
       "      <td>0.058268</td>\n",
       "    </tr>\n",
       "    <tr>\n",
       "      <th>2015-08-31</th>\n",
       "      <td>0.22</td>\n",
       "      <td>3.58149</td>\n",
       "      <td>0.070226</td>\n",
       "      <td>0.067877</td>\n",
       "    </tr>\n",
       "    <tr>\n",
       "      <th>2015-09-30</th>\n",
       "      <td>NaN</td>\n",
       "      <td>4.12643</td>\n",
       "      <td>0.152155</td>\n",
       "      <td>NaN</td>\n",
       "    </tr>\n",
       "  </tbody>\n",
       "</table>\n",
       "</div>"
      ],
      "text/plain": [
       "            IPCA  IBOVESPA  IBOVESPA_D  IBOVESPA_D_DEFL\n",
       "Date                                                   \n",
       "2015-05-31  0.74   3.15383    0.076055         0.068150\n",
       "2015-06-30  0.79   3.14274   -0.003516        -0.011327\n",
       "2015-07-31  0.62   3.34648    0.064829         0.058268\n",
       "2015-08-31  0.22   3.58149    0.070226         0.067877\n",
       "2015-09-30   NaN   4.12643    0.152155              NaN"
      ]
     },
     "execution_count": 88,
     "metadata": {},
     "output_type": "execute_result"
    }
   ],
   "source": [
    "data[\"IBOVESPA_D_DEFL\"] = (1 + data[\"IBOVESPA_D\"])/(1 + data[\"IPCA\"]/100) - 1\n",
    "data.tail()"
   ]
  },
  {
   "cell_type": "code",
   "execution_count": 89,
   "metadata": {
    "collapsed": false
   },
   "outputs": [
    {
     "data": {
      "text/html": [
       "<div>\n",
       "<table border=\"1\" class=\"dataframe\">\n",
       "  <thead>\n",
       "    <tr style=\"text-align: right;\">\n",
       "      <th></th>\n",
       "      <th>IPCA</th>\n",
       "      <th>IBOVESPA</th>\n",
       "      <th>IBOVESPA_D</th>\n",
       "      <th>IBOVESPA_D_DEFL</th>\n",
       "    </tr>\n",
       "    <tr>\n",
       "      <th>Date</th>\n",
       "      <th></th>\n",
       "      <th></th>\n",
       "      <th></th>\n",
       "      <th></th>\n",
       "    </tr>\n",
       "  </thead>\n",
       "  <tbody>\n",
       "    <tr>\n",
       "      <th>1996-09-30</th>\n",
       "      <td>0.15</td>\n",
       "      <td>1.02085</td>\n",
       "      <td>NaN</td>\n",
       "      <td>NaN</td>\n",
       "    </tr>\n",
       "    <tr>\n",
       "      <th>1996-10-31</th>\n",
       "      <td>0.30</td>\n",
       "      <td>1.02742</td>\n",
       "      <td>0.006436</td>\n",
       "      <td>0.003426</td>\n",
       "    </tr>\n",
       "    <tr>\n",
       "      <th>1996-11-30</th>\n",
       "      <td>0.32</td>\n",
       "      <td>1.03268</td>\n",
       "      <td>0.005120</td>\n",
       "      <td>0.001913</td>\n",
       "    </tr>\n",
       "    <tr>\n",
       "      <th>1996-12-31</th>\n",
       "      <td>0.47</td>\n",
       "      <td>1.03904</td>\n",
       "      <td>0.006159</td>\n",
       "      <td>0.001452</td>\n",
       "    </tr>\n",
       "    <tr>\n",
       "      <th>1997-01-31</th>\n",
       "      <td>1.18</td>\n",
       "      <td>1.04562</td>\n",
       "      <td>0.006333</td>\n",
       "      <td>-0.005403</td>\n",
       "    </tr>\n",
       "  </tbody>\n",
       "</table>\n",
       "</div>"
      ],
      "text/plain": [
       "            IPCA  IBOVESPA  IBOVESPA_D  IBOVESPA_D_DEFL\n",
       "Date                                                   \n",
       "1996-09-30  0.15   1.02085         NaN              NaN\n",
       "1996-10-31  0.30   1.02742    0.006436         0.003426\n",
       "1996-11-30  0.32   1.03268    0.005120         0.001913\n",
       "1996-12-31  0.47   1.03904    0.006159         0.001452\n",
       "1997-01-31  1.18   1.04562    0.006333        -0.005403"
      ]
     },
     "execution_count": 89,
     "metadata": {},
     "output_type": "execute_result"
    }
   ],
   "source": [
    "data.head()"
   ]
  },
  {
   "cell_type": "code",
   "execution_count": 90,
   "metadata": {
    "collapsed": false
   },
   "outputs": [],
   "source": [
    "data[\"IBOVESPA_DEFL\"] = data[\"IBOVESPA\"][0]*(np.cumprod((1 + data[\"IBOVESPA_D_DEFL\"]).shift(-1)).shift())"
   ]
  },
  {
   "cell_type": "code",
   "execution_count": 91,
   "metadata": {
    "collapsed": false
   },
   "outputs": [],
   "source": [
    "data[\"IBOVESPA_DEFL\"][0] = data[\"IBOVESPA\"][0]"
   ]
  },
  {
   "cell_type": "code",
   "execution_count": 92,
   "metadata": {
    "collapsed": false
   },
   "outputs": [
    {
     "data": {
      "text/html": [
       "<div>\n",
       "<table border=\"1\" class=\"dataframe\">\n",
       "  <thead>\n",
       "    <tr style=\"text-align: right;\">\n",
       "      <th></th>\n",
       "      <th>IPCA</th>\n",
       "      <th>IBOVESPA</th>\n",
       "      <th>IBOVESPA_D</th>\n",
       "      <th>IBOVESPA_D_DEFL</th>\n",
       "      <th>IBOVESPA_DEFL</th>\n",
       "    </tr>\n",
       "    <tr>\n",
       "      <th>Date</th>\n",
       "      <th></th>\n",
       "      <th></th>\n",
       "      <th></th>\n",
       "      <th></th>\n",
       "      <th></th>\n",
       "    </tr>\n",
       "  </thead>\n",
       "  <tbody>\n",
       "    <tr>\n",
       "      <th>1996-09-30</th>\n",
       "      <td>0.15</td>\n",
       "      <td>1.02085</td>\n",
       "      <td>NaN</td>\n",
       "      <td>NaN</td>\n",
       "      <td>1.020850</td>\n",
       "    </tr>\n",
       "    <tr>\n",
       "      <th>1996-10-31</th>\n",
       "      <td>0.30</td>\n",
       "      <td>1.02742</td>\n",
       "      <td>0.006436</td>\n",
       "      <td>0.003426</td>\n",
       "      <td>1.024347</td>\n",
       "    </tr>\n",
       "    <tr>\n",
       "      <th>1996-11-30</th>\n",
       "      <td>0.32</td>\n",
       "      <td>1.03268</td>\n",
       "      <td>0.005120</td>\n",
       "      <td>0.001913</td>\n",
       "      <td>1.026307</td>\n",
       "    </tr>\n",
       "    <tr>\n",
       "      <th>1996-12-31</th>\n",
       "      <td>0.47</td>\n",
       "      <td>1.03904</td>\n",
       "      <td>0.006159</td>\n",
       "      <td>0.001452</td>\n",
       "      <td>1.027797</td>\n",
       "    </tr>\n",
       "    <tr>\n",
       "      <th>1997-01-31</th>\n",
       "      <td>1.18</td>\n",
       "      <td>1.04562</td>\n",
       "      <td>0.006333</td>\n",
       "      <td>-0.005403</td>\n",
       "      <td>1.022243</td>\n",
       "    </tr>\n",
       "  </tbody>\n",
       "</table>\n",
       "</div>"
      ],
      "text/plain": [
       "            IPCA  IBOVESPA  IBOVESPA_D  IBOVESPA_D_DEFL  IBOVESPA_DEFL\n",
       "Date                                                                  \n",
       "1996-09-30  0.15   1.02085         NaN              NaN       1.020850\n",
       "1996-10-31  0.30   1.02742    0.006436         0.003426       1.024347\n",
       "1996-11-30  0.32   1.03268    0.005120         0.001913       1.026307\n",
       "1996-12-31  0.47   1.03904    0.006159         0.001452       1.027797\n",
       "1997-01-31  1.18   1.04562    0.006333        -0.005403       1.022243"
      ]
     },
     "execution_count": 92,
     "metadata": {},
     "output_type": "execute_result"
    }
   ],
   "source": [
    "data.head()"
   ]
  },
  {
   "cell_type": "code",
   "execution_count": 93,
   "metadata": {
    "collapsed": false
   },
   "outputs": [
    {
     "data": {
      "image/png": "[encoded data removed]",
      "text/plain": [
       "<matplotlib.figure.Figure at 0x10da2b400>"
      ]
     },
     "metadata": {},
     "output_type": "display_data"
    }
   ],
   "source": [
    "data[[\"IBOVESPA\", \"IBOVESPA_DEFL\"]].plot();"
   ]
  },
  {
   "cell_type": "code",
   "execution_count": 72,
   "metadata": {
    "collapsed": false
   },
   "outputs": [
    {
     "data": {
      "image/png": "[encoded data removed]",
      "text/plain": [
       "<matplotlib.figure.Figure at 0x10da28b70>"
      ]
     },
     "metadata": {},
     "output_type": "display_data"
    }
   ],
   "source": [
    "(data[\"IBOVESPA\"]-data[\"IBOVESPA_DEFL\"]).plot();"
   ]
  },
  {
   "cell_type": "code",
   "execution_count": null,
   "metadata": {
    "collapsed": true
   },
   "outputs": [],
   "source": []
  }
 ],
 "metadata": {
  "kernelspec": {
   "display_name": "Python 3",
   "language": "python",
   "name": "python3"
  },
  "language_info": {
   "codemirror_mode": {
    "name": "ipython",
    "version": 3
   },
   "file_extension": ".py",
   "mimetype": "text/x-python",
   "name": "python",
   "nbconvert_exporter": "python",
   "pygments_lexer": "ipython3",
   "version": "3.4.3"
  }
 },
 "nbformat": 4,
 "nbformat_minor": 0
}
