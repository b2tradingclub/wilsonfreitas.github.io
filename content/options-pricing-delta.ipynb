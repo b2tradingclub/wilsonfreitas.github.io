{
 "cells": [
  {
   "cell_type": "markdown",
   "metadata": {},
   "source": [
    "O apreçamento de opções"
   ]
  },
  {
   "cell_type": "code",
   "execution_count": 1,
   "metadata": {
    "collapsed": false
   },
   "outputs": [],
   "source": [
    "from numpy import sqrt\n",
    "from scipy import exp, log\n",
    "from scipy.stats import norm\n",
    "\n",
    "def d1d2(S, K, T, r, v, q):\n",
    "\td1 = ( log(S/K) + (r - q + 0.5*v**2)*T ) / (v*sqrt(T))\n",
    "\td2 = d1 - v*sqrt(T)\n",
    "\treturn d1, d2\n",
    "\n",
    "\n",
    "def bsm_price(S, K, T, r, v, q):\n",
    "\td1, d2 = d1d2(S, K, T, r, v, q)\n",
    "\tN1 = norm.cdf(d1)\n",
    "\tN2 = norm.cdf(d2)\n",
    "\t\n",
    "\treturn (S*exp(-q*T)*N1 - K*exp(-r*T)*N2, -S*exp(-q*T)*(1-N1) + K*exp(-r*T)*(1-N2))\n",
    "\n",
    "\n",
    "def bsm_delta(S, K, T, r, v, q):\n",
    "    d1, d2 = d1d2(S, K, T, r, v, q)\n",
    "    return (exp(-q*T)*norm.cdf(d1), exp(-q*T)*(norm.cdf(d1)-1))\n"
   ]
  },
  {
   "cell_type": "code",
   "execution_count": 3,
   "metadata": {
    "collapsed": false
   },
   "outputs": [],
   "source": [
    "import numpy as np"
   ]
  },
  {
   "cell_type": "code",
   "execution_count": 7,
   "metadata": {
    "collapsed": false
   },
   "outputs": [],
   "source": [
    "strike = np.linspace(50, 150, 1000)\n",
    "call, put = bsm_price(100, strike, 3/12, 0.01, 0.2, 0)"
   ]
  },
  {
   "cell_type": "code",
   "execution_count": null,
   "metadata": {
    "collapsed": false
   },
   "outputs": [],
   "source": []
  }
 ],
 "metadata": {
  "kernelspec": {
   "display_name": "Python 3",
   "language": "python",
   "name": "python3"
  },
  "language_info": {
   "codemirror_mode": {
    "name": "ipython",
    "version": 3
   },
   "file_extension": ".py",
   "mimetype": "text/x-python",
   "name": "python",
   "nbconvert_exporter": "python",
   "pygments_lexer": "ipython3",
   "version": "3.4.3"
  }
 },
 "nbformat": 4,
 "nbformat_minor": 0
}
