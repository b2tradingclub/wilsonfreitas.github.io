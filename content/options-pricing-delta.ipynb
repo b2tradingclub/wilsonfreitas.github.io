{
 "metadata": {
  "name": "",
  "signature": "sha256:e0dcef6e0ac27156a3060b145deb248073491b8e154578a5d577a5229fa29514"
 },
 "nbformat": 3,
 "nbformat_minor": 0,
 "worksheets": [
  {
   "cells": [
    {
     "cell_type": "markdown",
     "metadata": {},
     "source": [
      "O apre\u00e7amento de op\u00e7\u00f5es"
     ]
    },
    {
     "cell_type": "code",
     "collapsed": false,
     "input": [
      "from numpy import sqrt\n",
      "from scipy import exp, log\n",
      "from scipy.stats import norm\n",
      "\n",
      "def d1d2(S, K, T, r, v, q):\n",
      "\td1 = ( log(S/K) + (r - q + 0.5*v**2)*T ) / (v*sqrt(T))\n",
      "\td2 = d1 - v*sqrt(T)\n",
      "\treturn d1, d2\n",
      "\n",
      "\n",
      "def bsm_price(S, K, T, r, v, q):\n",
      "\td1, d2 = d1d2(S, K, T, r, v, q)\n",
      "\tN1 = norm.cdf(d1)\n",
      "\tN2 = norm.cdf(d2)\n",
      "\t\n",
      "\treturn (S*exp(-q*T)*N1 - K*exp(-r*T)*N2, -S*exp(-q*T)*(1-N1) + K*exp(-r*T)*(1-N2))\n",
      "\n",
      "\n",
      "def bsm_delta(S, K, T, r, v, q):\n",
      "    d1, d2 = d1d2(S, K, T, r, v, q)\n",
      "    return (exp(-q*T)*norm.cdf(d1), exp(-q*T)*(norm.cdf(d1)-1))\n"
     ],
     "language": "python",
     "metadata": {},
     "outputs": [],
     "prompt_number": 1
    },
    {
     "cell_type": "code",
     "collapsed": false,
     "input": [
      "import numpy as np"
     ],
     "language": "python",
     "metadata": {},
     "outputs": [],
     "prompt_number": 3
    },
    {
     "cell_type": "code",
     "collapsed": false,
     "input": [
      "strike = np.linspace(50, 150, 1000)\n",
      "call, put = bsm_price(100, strike, 3/12, 0.01, 0.2, 0)"
     ],
     "language": "python",
     "metadata": {},
     "outputs": [],
     "prompt_number": 7
    },
    {
     "cell_type": "code",
     "collapsed": false,
     "input": [],
     "language": "python",
     "metadata": {},
     "outputs": []
    }
   ],
   "metadata": {}
  }
 ]
}