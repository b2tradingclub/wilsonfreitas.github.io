{
 "metadata": {
  "name": ""
 },
 "nbformat": 3,
 "nbformat_minor": 0,
 "worksheets": [
  {
   "cells": [
    {
     "cell_type": "markdown",
     "metadata": {},
     "source": [
      "Quem trabalha com an\u00e1lise de dados sabe que o trabalho de an\u00e1lise come\u00e7a apenas ap\u00f3s o tratamento adequado dos dados.\n",
      "Quando se assume o compromisso de montar e manter a sua pr\u00f3pria base de dados, o trabalho de preparar os dados para an\u00e1lise \u00e9 grande, e quando se conta com dados disponibilizados por terceiros (em grande parte distribu\u00eddos em planilhas, arquivos textos em formatos bizarros ou ainda dispon\u00edveis na web) este se torna um trabalho herc\u00faleo, pois al\u00e9m da transforma\u00e7\u00e3o dos dados para um formato estrutura, ainda \u00e9 necess\u00e1ria a transforma\u00e7\u00e3o pertinente \u00e0 an\u00e1lise.\n",
      "\n",
      "Dessa maneira, eu divido o trabalho de pr\u00e9-an\u00e1lise em tr\u00eas etapas:\n",
      "\n",
      "1. aquisi\u00e7\u00e3o dos dados brutos\n",
      "1. transforma\u00e7\u00e3o dos dados em um formato estruturado\n",
      "1. transforma\u00e7\u00e3o dos dados estruturados para a an\u00e1lise\n",
      "\n",
      "A\u00ed um incauto pode se perguntar, mas porque eu n\u00e3o coloco de uma vez os dados no formato final em que eu j\u00e1 quero analisar?\n",
      "Bem, por que eu a priori eu n\u00e3o sei como vou atacar o problema, em geral eu acredito que os dados brutos s\u00e3o \u00fateis para o problema que eu quero abordar, mas certeza mesmo s\u00f3 tenho em rela\u00e7\u00e3o a minha sexualidade.\n",
      "Outro fator \u00e9 que estes dados podem ser \u00fateis em outra an\u00e1lise e mant\u00ea-los em um estado preliminar, mas \u00fatil, \u00e9 mais interessante do que mant\u00ea-los em um formato final, onde em alguns casos pode haver perda de informa\u00e7\u00e3o.\n",
      "Por isso que al\u00e9m de manter os dados estruturados eu tamb\u00e9m gosto de manter os dados brutos, por que afinal o seguro morreu de velho e no futuro eu posso resolver estruturar estes dados de outra maneira e eu prefiro voltar a prancheta e partir dos dados brutos.\n",
      "\n",
      "Pois bem, por sorte existem indiv\u00faduos de bom cora\u00e7\u00e3o cuja miss\u00e3o \u00e9 tornar a vida de milhares de pessoas menos miser\u00e1vel.\n",
      "Um grande indiv\u00edduo \u00e9 o sr. [Tammer Kamel](https://twitter.com/TEKamel) fundador do [Quandl](http://www.quandl.com/), um site que armazena e disponibiliza dados de forma estruturada.\n",
      "\n",
      "Hoje, 30 de mar\u00e7o de 2014, o Quandl conta com aproximadamente 9 milh\u00f5es de _datasets_ referentes a diversos paises.\n",
      "Obviamente a maior parte \u00e9 relacionada aos Estados Unidos, mas tem bastante coisa \u00fatil do Brasil.\n",
      "Boa parte dos dados do [sistema de s\u00e9ries temporais do Banco Central](https://www3.bcb.gov.br/sgspub) est\u00e3o l\u00e1 e s\u00e3o atualizados diariamente.\n",
      "S\u00f3 por manter os dados estruturados e atualizados, o Quandl j\u00e1 demostra grande valor, no entanto, ele ainda disponibiliza um [API](http://www.quandl.com/help/api) online para download dos dados em formatos estruturados como: XML, JSON, CSV, HTML, que tamb\u00e9m apresenta diversas fun\u00e7\u00f5es para ordena\u00e7\u00e3o, tranforma\u00e7\u00e3o e filtragem dos dados.\n",
      "Atrav\u00e9s da API \u00e9 poss\u00edvel especificar o intervalo de datas para aquisi\u00e7\u00e3o dos dados, a frequ\u00eancia dos dados: di\u00e1ria, semanal, mensal, anual, ..., e realizar calculos no _dataset_ como a diferen\u00e7a entre os dados, a normaliza\u00e7\u00e3o para a indexa\u00e7\u00e3o, entre outros.\n",
      "E al\u00e9m disso, ainda foram desenvolvidas bibliotecas, pela pr\u00f3pria equipe do Quandl e por outros desenvolvedores pelo mundo, para customizar o download dos dados.\n",
      "Hoje constam bibliotecas para as seguintes linguagens/programas:\n",
      "\n",
      "- R\n",
      "- PYTHON\n",
      "- MATLAB\n",
      "- EXCEL\n",
      "- STATA\n",
      "- MAPLE\n",
      "- C#\n",
      "- JULIA\n",
      "- CLOJURE\n",
      "- EVIEWS\n",
      "- JAVA\n",
      "- .NET\n",
      "- C/C++\n",
      "\n",
      "A grande vantagem dessas bibliotecas \u00e9 que os dados j\u00e1 s\u00e3o transformados em uma estrutura de dados inerente a linguagem onde parte do esfor\u00e7o de formata\u00e7\u00e3o num\u00e9rica (datas e n\u00fameros) j\u00e1 foi implementada.\n",
      "Vamos ver agora como utilizar o Quandl com Python para obter os dados estruturados.\n",
      "\n",
      "## Quandl com Python\n",
      "\n",
      "Acredito que a biblioteca de Python foi uma das primeiras desenvolvidas para trabalhar com o Quandl.\n",
      "O projeto pode ser encontrado no github em [quandl/Python](http://www.github.com/quandl/Python) o no [PyPI](https://pypi.python.org/pypi/Quandl).\n",
      "Eu fiz a instala\u00e7\u00e3o diretamente pelo `pip install Quandl` e n\u00e3o tive problemas.\n",
      "O Quandl precisa do **numpy** e do **pandas** para funcionar de forma que ele n\u00e3o disponibiliza os dados em estruturas de dados padr\u00f5es do Python como `dict` e `list` e caso voc\u00ea queira os dados nestas estruturas sugiro utilizar diretamente a API online, escolher o formato JSON e utilizar o m\u00f3dulo `json`.\n",
      "\n",
      "Bem, vamos meter a m\u00e3o na massa, para utilizar o Quandl vamos come\u00e7ar importando o m\u00f3dulo `Quandl`."
     ]
    },
    {
     "cell_type": "code",
     "collapsed": false,
     "input": [
      "import Quandl"
     ],
     "language": "python",
     "metadata": {},
     "outputs": [],
     "prompt_number": 1
    },
    {
     "cell_type": "markdown",
     "metadata": {},
     "source": [
      "Para obter os dados basta chamar a fun\u00e7\u00e3o `get` do m\u00f3dulo passando o *ticker* do *dataset* que se deseja baixar.\n",
      "No exemplo abaixo vamos utilizar o *ticker* `GOOG/BVMF_PETR4` referente \u00e0s a\u00e7\u00f5es da Petrobras negociadas na [BM&FBovespa](http://www.bmfbovespa.com.br) e disponibilizadas pelo [Google Finance](https://www.google.com/finance)."
     ]
    },
    {
     "cell_type": "code",
     "collapsed": false,
     "input": [
      "petr4 = Quandl.get(\"GOOG/BVMF_PETR4\")\n",
      "print petr4.index\n",
      "print petr4.head()"
     ],
     "language": "python",
     "metadata": {},
     "outputs": [
      {
       "output_type": "stream",
       "stream": "stdout",
       "text": [
        "No authentication tokens found: usage will be limited.\n",
        "See www.quandl.com/api for more information.\n",
        "Returning Dataframe for "
       ]
      },
      {
       "output_type": "stream",
       "stream": "stdout",
       "text": [
        " GOOG/BVMF_PETR4\n",
        "<class 'pandas.tseries.index.DatetimeIndex'>\n",
        "[2003-06-02 00:00:00, ..., 2014-03-28 00:00:00]\n",
        "Length: 2682, Freq: None, Timezone: None\n",
        "            Open  High   Low  Close    Volume\n",
        "Date                                         \n",
        "2003-06-02  6.58  6.68  6.54   6.56   7481600\n",
        "2003-06-03  6.56  6.56  6.50   6.55   6329600\n",
        "2003-06-04  6.62  6.78  6.58   6.75   9747200\n",
        "2003-06-05  6.72  6.81  6.71   6.74  10420000\n",
        "2003-06-06  6.78  6.88  6.77   6.79   7205600\n",
        "\n",
        "[5 rows x 5 columns]\n"
       ]
      }
     ],
     "prompt_number": 2
    },
    {
     "cell_type": "markdown",
     "metadata": {},
     "source": [
      "Note que `petr4` \u00e9 um `DataFrame` **pandas**, caso n\u00e3o queira ou n\u00e3o goste de trabalhar com **pandas** \u00e9 poss\u00edvel obter os dados em um **numpy** *array*."
     ]
    },
    {
     "cell_type": "code",
     "collapsed": false,
     "input": [
      "petr4_np = Quandl.get(\"GOOG/BVMF_PETR4\", returns='numpy')\n",
      "print petr4_np.shape\n",
      "print petr4_np"
     ],
     "language": "python",
     "metadata": {},
     "outputs": [
      {
       "output_type": "stream",
       "stream": "stdout",
       "text": [
        "No authentication tokens found: usage will be limited.\n",
        "See www.quandl.com/api for more information.\n",
        "(2682,)"
       ]
      },
      {
       "output_type": "stream",
       "stream": "stdout",
       "text": [
        "\n",
        "[('2003-06-02', 6.58, 6.68, 6.54, 6.56, 7481600.0)\n",
        " ('2003-06-03', 6.56, 6.56, 6.5, 6.55, 6329600.0)\n",
        " ('2003-06-04', 6.62, 6.78, 6.58, 6.75, 9747200.0) ...,\n",
        " ('2014-03-26', 14.55, 14.69, 14.35, 14.4, 29462600.0)\n",
        " ('2014-03-27', 14.39, 15.57, 14.32, 15.57, 77279000.0)\n",
        " ('2014-03-28', 15.57, 15.77, 15.2, 15.66, 42202400.0)]\n"
       ]
      }
     ],
     "prompt_number": 3
    },
    {
     "cell_type": "markdown",
     "metadata": {},
     "source": [
      "A formata\u00e7\u00e3o do **numpy** \u00e9 mais pobre, no entanto tudo depende do que se queira fazer com os dados, de forma que a op\u00e7\u00e3o est\u00e1 a\u00ed e cada um utiliza como for conveniente.\n",
      "\n",
      "Como sempre falo para *olhar* os dados, em ambas sa\u00eddas podemos observar que temos 5 colunas e 2682 registros (ou linhas) ordenadas de forma ascendente.\n",
      "Como peguei os dados referentes \u00e0s a\u00e7\u00f5es Petrobras, em geral estes dados vem no formato OHLC (Open, High, Low, Close e Volume).\n",
      "No `DataFrame` isso fica evidente, j\u00e1 no **numpy** *array* \u00e9 necess\u00e1rio um conhecimento pr\u00e9vio deste fato, pra pelo menos saber o que \u00e9 o que.\n",
      "\n",
      "### Baixando multiplos ativos\n",
      "\n",
      "Uma coisa legal \u00e9 poder baixar diversos ativos em um \u00fanico *request*, como fazemos abaixo:"
     ]
    },
    {
     "cell_type": "code",
     "collapsed": false,
     "input": [
      "petr_bova = Quandl.get([\"GOOG/BVMF_PETR4.4\", \"GOOG/BVMF_BOVA11.4\"])\n",
      "print petr_bova.index\n",
      "print petr_bova.head()"
     ],
     "language": "python",
     "metadata": {},
     "outputs": [
      {
       "output_type": "stream",
       "stream": "stdout",
       "text": [
        "No authentication tokens found: usage will be limited.\n",
        "See www.quandl.com/api for more information.\n",
        "Returning Dataframe for "
       ]
      },
      {
       "output_type": "stream",
       "stream": "stdout",
       "text": [
        " [u'GOOG.BVMF_PETR4.4', u'GOOG.BVMF_BOVA11.4']\n",
        "<class 'pandas.tseries.index.DatetimeIndex'>\n",
        "[2003-06-02 00:00:00, ..., 2014-03-28 00:00:00]\n",
        "Length: 2682, Freq: None, Timezone: None\n",
        "            GOOG.BVMF_PETR4 - Close  GOOG.BVMF_BOVA11 - Close\n",
        "Date                                                         \n",
        "2003-06-02                     6.56                       NaN\n",
        "2003-06-03                     6.55                       NaN\n",
        "2003-06-04                     6.75                       NaN\n",
        "2003-06-05                     6.74                       NaN\n",
        "2003-06-06                     6.79                       NaN\n",
        "\n",
        "[5 rows x 2 columns]\n"
       ]
      }
     ],
     "prompt_number": 4
    },
    {
     "cell_type": "markdown",
     "metadata": {},
     "source": [
      "Como a s\u00e9rie da Petrobr\u00e1s \u00e9 maior do que a do BOVA11 (BOVA11 \u00e9 um ETF) a maior s\u00e9rie \u00e9 preservada e os dados incompletos vem com `NaN`.\n",
      "\n",
      "### Baixando intervalos de datas espec\u00edficos\n",
      "\n",
      "Querendo evitar os `NaN` vamos limitar o *request* \u00e0s datas em que temos informa\u00e7\u00e3o do BOVA11, que \u00e9 a partir de 2012-11-22."
     ]
    },
    {
     "cell_type": "code",
     "collapsed": false,
     "input": [
      "petr_bova = Quandl.get([\"GOOG/BVMF_PETR4.4\", \"GOOG/BVMF_BOVA11.4\"], trim_start='2012-11-22')\n",
      "print petr_bova.index\n",
      "print petr_bova.head()"
     ],
     "language": "python",
     "metadata": {},
     "outputs": [
      {
       "output_type": "stream",
       "stream": "stdout",
       "text": [
        "No authentication tokens found: usage will be limited.\n",
        "See www.quandl.com/api for more information.\n",
        "Returning Dataframe for "
       ]
      },
      {
       "output_type": "stream",
       "stream": "stdout",
       "text": [
        " [u'GOOG.BVMF_PETR4.4', u'GOOG.BVMF_BOVA11.4']\n",
        "<class 'pandas.tseries.index.DatetimeIndex'>\n",
        "[2012-11-22 00:00:00, ..., 2014-03-28 00:00:00]\n",
        "Length: 333, Freq: None, Timezone: None\n",
        "            GOOG.BVMF_PETR4 - Close  GOOG.BVMF_BOVA11 - Close\n",
        "Date                                                         \n",
        "2012-11-22                    18.65                     55.31\n",
        "2012-11-23                    19.17                     56.49\n",
        "2012-11-26                    18.82                     55.65\n",
        "2012-11-27                    18.51                     55.10\n",
        "2012-11-28                    18.65                     55.50\n",
        "\n",
        "[5 rows x 2 columns]\n"
       ]
      }
     ],
     "prompt_number": 5
    },
    {
     "cell_type": "markdown",
     "metadata": {},
     "source": [
      "Poderiamos pegar apenas o ano de 2013 fazendo"
     ]
    },
    {
     "cell_type": "code",
     "collapsed": false,
     "input": [
      "petr_bova = Quandl.get([\"GOOG/BVMF_PETR4.4\", \"GOOG/BVMF_BOVA11.4\"], trim_start='2013-01-01', trim_end='2013-12-31')\n",
      "print petr_bova.index\n",
      "print petr_bova.head()"
     ],
     "language": "python",
     "metadata": {},
     "outputs": [
      {
       "output_type": "stream",
       "stream": "stdout",
       "text": [
        "No authentication tokens found: usage will be limited.\n",
        "See www.quandl.com/api for more information.\n",
        "Returning Dataframe for "
       ]
      },
      {
       "output_type": "stream",
       "stream": "stdout",
       "text": [
        " [u'GOOG.BVMF_PETR4.4', u'GOOG.BVMF_BOVA11.4']\n",
        "<class 'pandas.tseries.index.DatetimeIndex'>\n",
        "[2013-01-02 00:00:00, ..., 2013-12-30 00:00:00]\n",
        "Length: 248, Freq: None, Timezone: None\n",
        "            GOOG.BVMF_PETR4 - Close  GOOG.BVMF_BOVA11 - Close\n",
        "Date                                                         \n",
        "2013-01-02                    19.69                     61.27\n",
        "2013-01-03                    20.40                     61.92\n",
        "2013-01-04                    20.48                     61.32\n",
        "2013-01-07                    20.08                     60.75\n",
        "2013-01-08                    19.50                     59.91\n",
        "\n",
        "[5 rows x 2 columns]\n"
       ]
      }
     ],
     "prompt_number": 6
    },
    {
     "cell_type": "markdown",
     "metadata": {},
     "source": [
      "### Outras op\u00e7\u00f5es interessantes\n",
      "\n",
      "Uma op\u00e7\u00e3o que eu acho muito legal \u00e9 a op\u00e7\u00e3o de baixar os \u00faltimos `n` registros, pois pensando em processamento di\u00e1rio eu n\u00e3o precisaria ficar especificando as datas para download, sabendo sempre que a data atual \u00e9 a refer\u00eancia.\n",
      "Para isso basta utilizar os par\u00e2metros `rows=n` e `sort_order='desc'`.\n",
      "Vamos utilizar isso para baixar a \u00faltima divulga\u00e7\u00e3o da taxa CDI da [CETIP](http://www.cetip.com.br)."
     ]
    },
    {
     "cell_type": "code",
     "collapsed": false,
     "input": [
      "cdi = Quandl.get(\"BCB/4389\", rows=1, sort_order='desc')\n",
      "print cdi"
     ],
     "language": "python",
     "metadata": {},
     "outputs": [
      {
       "output_type": "stream",
       "stream": "stdout",
       "text": [
        "No authentication tokens found: usage will be limited.\n",
        "See www.quandl.com/api for more information.\n",
        "Returning Dataframe for "
       ]
      },
      {
       "output_type": "stream",
       "stream": "stdout",
       "text": [
        " BCB/4389\n",
        "            Value\n",
        "Date             \n",
        "2014-03-27  10.55\n",
        "\n",
        "[1 rows x 1 columns]\n"
       ]
      }
     ],
     "prompt_number": 7
    },
    {
     "cell_type": "markdown",
     "metadata": {},
     "source": [
      "Outra op\u00e7\u00e3o interessante, que eu particularmente n\u00e3o uso muito, \u00e9 a defini\u00e7\u00e3o de frequ\u00eancia dos dados.\n",
      "No entanto, as vezes \u00e9 interessante analisar as s\u00e9ries temporais em frequ\u00eancias menores como mensal ou anual.\n",
      "Vamos ver como baixar os dados do \u00cdndice Bovespa em cota\u00e7\u00e3o mensal."
     ]
    },
    {
     "cell_type": "code",
     "collapsed": false,
     "input": [
      "bvsp = Quandl.get(\"YAHOO/INDEX_BVSP\", collapse=\"monthly\")\n",
      "print bvsp.head(10)"
     ],
     "language": "python",
     "metadata": {},
     "outputs": [
      {
       "output_type": "stream",
       "stream": "stdout",
       "text": [
        "No authentication tokens found: usage will be limited.\n",
        "See www.quandl.com/api for more information.\n",
        "Returning Dataframe for "
       ]
      },
      {
       "output_type": "stream",
       "stream": "stdout",
       "text": [
        " YAHOO/INDEX_BVSP\n",
        "            Open  High   Low  Close  Volume  Adjusted Close\n",
        "Date                                                       \n",
        "1993-04-30   237   242   237    241       0            24.1\n",
        "1993-05-31   349   349   349    349       0            34.9\n",
        "1993-06-30   529   542   529    537       0            53.7\n",
        "1993-07-31   661   674   656    656       0            65.6\n",
        "1993-08-31   998   998   963    964       0            96.4\n",
        "1993-09-30  1474  1503  1465   1466       0           146.6\n",
        "1993-10-31  1775  1852  1748   1844       0           184.4\n",
        "1993-11-30  2765  2782  2700   2740       0           274.0\n",
        "1993-12-31  3736  3786  3736   3755       0           375.5\n",
        "1994-01-31  6892  7417  6892   7406       0           740.6\n",
        "\n",
        "[10 rows x 6 columns]\n"
       ]
      }
     ],
     "prompt_number": 8
    },
    {
     "cell_type": "markdown",
     "metadata": {},
     "source": [
      "Note que cada registro \u00e9 referente ao fim de cada m\u00eas.\n",
      "\n",
      "## Encontrando os *tickers*\n",
      "\n",
      "Uma coisa que n\u00e3o mencionei, mas \u00e9 de toda a relev\u00e2ncia \u00e9 sobre como encontrar os *tickers*.\n",
      "Bem, essa \u00e9 a coisa mais simples, basta fazer uma busca no pr\u00f3prio site do [Quandl](http://www.quandl.com).\n",
      "L\u00e1 voc\u00ea encontra os *datasets*, os seus *tickers*, as datas de in\u00edcio e fim e outras informa\u00e7\u00f5es pertinentes ao *dataset*.\n",
      "\n",
      "## Conclus\u00e3o\n",
      "\n",
      "Bem, \u00e9 isso.\n",
      "Vimos aqui como obter dados estruturados em Python atrav\u00e9s de uma interface simples que elimina o risco operacional da aquisi\u00e7\u00e3o de dados na web.\n",
      "Na pr\u00e1tica este risco foi assumido pelo Quandl e ao utilizar a ferramenta voc\u00ea assume que eles lidam com este risco melhor do que voc\u00ea.\n",
      "\n",
      "Uma dica importante \u00e9 se registrar no site e realizar os downloads utilizando o token de autentica\u00e7\u00e3o.\n",
      "\u00c9 poss\u00edvel realizar 50 downloads di\u00e1rios sem autentica\u00e7\u00e3o, e autenticando \u00e9 poss\u00edvel realizar maiores taxas de download e caso voc\u00ea precise de grandes volumes di\u00e1rios entre em contato com o site e negocie, pois eles n\u00e3o cobram pelo servi\u00e7o mas gostam de avaliar exce\u00e7\u00f5es uma a uma."
     ]
    }
   ],
   "metadata": {}
  }
 ]
}